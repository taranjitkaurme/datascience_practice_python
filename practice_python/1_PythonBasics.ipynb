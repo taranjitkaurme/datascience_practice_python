{
 "cells": [
  {
   "cell_type": "code",
   "execution_count": 1,
   "id": "a2a919cc-d135-4393-8f58-8f356e212e75",
   "metadata": {},
   "outputs": [
    {
     "name": "stdout",
     "output_type": "stream",
     "text": [
      "Hello\n"
     ]
    }
   ],
   "source": [
    "print(\"Hello\")"
   ]
  },
  {
   "cell_type": "markdown",
   "id": "b00e47ca-9dfd-4ad7-abe4-e6bbdec201e1",
   "metadata": {},
   "source": [
    "# Welcome to the Python Adventure! 🚀🐍"
   ]
  },
  {
   "cell_type": "markdown",
   "id": "b52ae0f3-f3f4-430d-93a9-5cb81e9b394a",
   "metadata": {},
   "source": [
    "## Variables, Data Types, and Operators:"
   ]
  },
  {
   "cell_type": "markdown",
   "id": "5c9923ce-7ad4-4624-8ae4-59bfbb1d3501",
   "metadata": {},
   "source": [
    "## Variables \n",
    "#### Variables are like magic potions that store information. \r\n",
    "Used to store and manage data in a program. They have a name and a value. Python is dynamically typed, meaning you don't have to declare the type of a variable; it is inferred at runtime\n",
    "#### Let's create a magic spell together:."
   ]
  },
  {
   "cell_type": "code",
   "execution_count": 2,
   "id": "7b8cade3-e78c-4127-8583-cee4d7a46597",
   "metadata": {},
   "outputs": [
    {
     "name": "stdout",
     "output_type": "stream",
     "text": [
      "Abracadabra!\n",
      "Hello, World!\n",
      "42\n"
     ]
    }
   ],
   "source": [
    "# Cast a spell\n",
    "magic_word = \"Abracadabra!\"\n",
    "\n",
    "# Variables\n",
    "variable_name = \"Hello, World!\"\n",
    "num_variable = 42\n",
    "\n",
    "# Print the results\n",
    "print(magic_word)\n",
    "print(variable_name)\n",
    "print(num_variable)"
   ]
  },
  {
   "cell_type": "markdown",
   "id": "d43e655e-fcc3-47c5-8b66-110b774bd7c7",
   "metadata": {},
   "source": [
    "## Data Types:\n",
    "#### In the enchanted land of Python, we have mystical data types:"
   ]
  },
  {
   "cell_type": "code",
   "execution_count": 3,
   "id": "2316d92c-38d4-477f-85e9-75ee31a9f914",
   "metadata": {},
   "outputs": [],
   "source": [
    "# Data Types\n",
    "string_var = \"This is a string\" # String type\n",
    "int_var = 2 # Numeric types\n",
    "float_var = 3.14 # Numeric types\n",
    "bool_var = True # Boolean type\n",
    "empty_variable = None # None type  (represents the absence of a value)"
   ]
  },
  {
   "cell_type": "markdown",
   "id": "01178640-1b8d-491d-a0c5-00aa8a323a93",
   "metadata": {},
   "source": [
    "## Operators:\n",
    "##### In the enchanted forest, numbers dance and play with these mystical symbols.\n",
    "Operators are symbols that perform operations on variables and values."
   ]
  },
  {
   "cell_type": "code",
   "execution_count": 4,
   "id": "1bf47dcc-dcc8-4c85-8932-60fbf3db9c5b",
   "metadata": {},
   "outputs": [
    {
     "name": "stdout",
     "output_type": "stream",
     "text": [
      "Hello, World!\n",
      "44\n",
      "131.88\n",
      "40\n",
      "21.0\n",
      "0\n",
      "1764\n"
     ]
    }
   ],
   "source": [
    "# Arithmetic Operators\n",
    "\n",
    "result_addition = num_variable + int_var\n",
    "result_multiplication = num_variable * float_var\n",
    "subtraction_result = num_variable - int_var\n",
    "division_result = num_variable / int_var\n",
    "modulo_result = num_variable % int_var\n",
    "exponential_result = num_variable ** int_var\n",
    "\n",
    "# Print the results\n",
    "\n",
    "print(variable_name)\n",
    "print(result_addition)\n",
    "print(result_multiplication)\n",
    "print(subtraction_result)\n",
    "print(division_result)\n",
    "print(modulo_result)\n",
    "print(exponential_result)"
   ]
  },
  {
   "cell_type": "code",
   "execution_count": 14,
   "id": "098a684d-dd09-4495-8db5-762eb1b4f0f8",
   "metadata": {},
   "outputs": [
    {
     "name": "stdout",
     "output_type": "stream",
     "text": [
      "False\n",
      "True\n",
      "True\n",
      "False\n",
      "True\n",
      "False\n"
     ]
    }
   ],
   "source": [
    "# Comparison Operators: Witness the grand showdown of these comparison warriors:\n",
    "\n",
    "num1=67\n",
    "num2=54.3\n",
    "\n",
    "is_equal = num1 == num2\n",
    "print(is_equal) # Print the results \n",
    "not_equal = num1 != num2\n",
    "print(not_equal) # Print the results \n",
    "greater_than = num1 > num2\n",
    "print(greater_than) # Print the results \n",
    "less_than = num1 < num2\n",
    "print(less_than) # Print the results \n",
    "greater_than_or_equal = num1 >= num2\n",
    "print(greater_than_or_equal) # Print the results \n",
    "less_than_or_equal = num1 <= num2\n",
    "print(less_than_or_equal) # Print the results \n"
   ]
  },
  {
   "cell_type": "code",
   "execution_count": 15,
   "id": "f349114d-e6a7-4c41-8233-fc3c7e114176",
   "metadata": {},
   "outputs": [
    {
     "name": "stdout",
     "output_type": "stream",
     "text": [
      "True\n",
      "True\n",
      "False\n"
     ]
    }
   ],
   "source": [
    "# Logical Operators: The magical gates to different realms open with these incantations:\n",
    "\n",
    "logical_and = (num1 > 0) and (num2 > 0)\n",
    "logical_or = (num1 > 0) or (num2 > 0)\n",
    "logical_not = not (num1 > 0)\n",
    "print(logical_and)\n",
    "print(logical_or)\n",
    "print(logical_not)"
   ]
  },
  {
   "cell_type": "markdown",
   "id": "9216206b-8c4a-477d-a294-66448d9035f3",
   "metadata": {},
   "source": [
    "## String Manipulations\n",
    "\n",
    "#### Concatenation: Concatenation is combining two or more strings.\n",
    "#### String Length: Finding the length of a string using the len() function.\n",
    "#### String Indexing and Slicing: Accessing individual characters in a string using indexing and extracting substrings using slicing."
   ]
  },
  {
   "cell_type": "code",
   "execution_count": 7,
   "id": "58d5c675-b856-4bf7-878b-92c3f086ca55",
   "metadata": {},
   "outputs": [
    {
     "name": "stdout",
     "output_type": "stream",
     "text": [
      "Hello World\n",
      "11\n",
      "H\n",
      "World\n"
     ]
    }
   ],
   "source": [
    "# String Manipulations\n",
    "\n",
    "# Concatenation\n",
    "str1= \"Hello\"\n",
    "str2= \"World\"\n",
    "concatenated_str = str1 +\" \"+ str2\n",
    "\n",
    "# String Length\n",
    "str_length = len(concatenated_str)\n",
    "\n",
    "# String Indexing and Slicing\n",
    "first_char = concatenated_str[0]\n",
    "substring = concatenated_str[6:]\n",
    "\n",
    "#Print the results\n",
    "print(concatenated_str)\n",
    "print(str_length)\n",
    "print(first_char)\n",
    "print(substring)"
   ]
  },
  {
   "cell_type": "markdown",
   "id": "d7c85d2f-2e5d-4c8a-9c1b-33af5445c009",
   "metadata": {},
   "source": [
    "## String Methods: Weaving Spells with Words!\n",
    "#### Python provides various string methods for manipulation, such as upper(), lower(), replace(), and split()."
   ]
  },
  {
   "cell_type": "code",
   "execution_count": 8,
   "id": "c1346a04-0bf3-453b-aebf-4307bc79eb5e",
   "metadata": {},
   "outputs": [
    {
     "name": "stdout",
     "output_type": "stream",
     "text": [
      "MY NAME IS TARANJIT KAUR\n",
      "my name is taranjit kaur\n",
      "My name is Tanu\n",
      "['My', 'name', 'is', 'Taranjit', 'Kaur']\n"
     ]
    }
   ],
   "source": [
    "# String Methods\n",
    "\n",
    "str=\"My name is Taranjit Kaur\"\n",
    "uppercase_str= str.upper()\n",
    "lowercase_str=str.lower()\n",
    "replaced_str=str.replace(\"Taranjit Kaur\",\"Tanu\")\n",
    "split_str= str.split(\" \")\n",
    "\n",
    "print(uppercase_str)\n",
    "print(lowercase_str)\n",
    "print(replaced_str)\n",
    "print(split_str)"
   ]
  },
  {
   "cell_type": "markdown",
   "id": "ce40dbc2-1d29-47d9-9d9a-9d64be8b960d",
   "metadata": {},
   "source": [
    "### Additional String Methods"
   ]
  },
  {
   "cell_type": "code",
   "execution_count": 9,
   "id": "da15ba52-2351-4e74-ab58-24864f5897fd",
   "metadata": {},
   "outputs": [
    {
     "name": "stdout",
     "output_type": "stream",
     "text": [
      "2\n",
      "8\n",
      "True\n",
      "True\n",
      "Python\n",
      "False\n",
      "False\n"
     ]
    }
   ],
   "source": [
    "\n",
    "# Count occurrences of a substring\n",
    "count_occurrences = str.count('i')\n",
    "\n",
    "# Find the index of a substring\n",
    "index_of_world = str.find(\"is\")\n",
    "\n",
    "# Check if a string starts or ends with a specific substring\n",
    "starts_with = str.startswith(\"My\")\n",
    "ends_with= str.endswith(\"Kaur\")\n",
    "\n",
    "# Strip leading and trailing whitespaces\n",
    "whitespace_str = \"   Python   \"\n",
    "stripped_str = whitespace_str.strip()\n",
    "\n",
    "# Check if all characters are alphabetic or numeric\n",
    "is_alpha = str.isalpha()\n",
    "is_numeric = str.isnumeric()\n",
    "\n",
    "print(count_occurrences)\n",
    "print(index_of_world)\n",
    "print(starts_with)\n",
    "print(ends_with)\n",
    "print(stripped_str)\n",
    "print(is_alpha)\n",
    "print(is_numeric)"
   ]
  },
  {
   "cell_type": "markdown",
   "id": "a3fb508c-d136-4f8e-8635-eb5990a408d4",
   "metadata": {},
   "source": [
    "## Control Flow (if-else, for loop, while loop).\n",
    "\n",
    "#### If-Else Statements-The Crossroads of Destiny: Conditional statements allow your program to make decisions based on conditions."
   ]
  },
  {
   "cell_type": "code",
   "execution_count": 10,
   "id": "57c12bcb-db9c-4761-94be-380ee37ef27c",
   "metadata": {},
   "outputs": [
    {
     "name": "stdout",
     "output_type": "stream",
     "text": [
      "You are an adult\n",
      "0\n",
      "1\n",
      "2\n",
      "3\n",
      "4\n",
      "Loop iteration: 0\n",
      "Loop iteration: 1\n",
      "Loop iteration: 2\n"
     ]
    }
   ],
   "source": [
    "# Control Flow\n",
    "\n",
    "# if-else statement\n",
    "age = 20\n",
    "if age >= 18:\n",
    "    print(\"You are an adult\")\n",
    "else:\n",
    "    print(\"You are a minor\")\n",
    "\n"
   ]
  },
  {
   "cell_type": "markdown",
   "id": "babd1d2a-aa71-4567-b9bb-7d119a7be96b",
   "metadata": {},
   "source": [
    "#### For Loop- A Magical Expedition: A for loop is used for iterating over a sequence (that is either a list, tuple, dictionary, string, or range)."
   ]
  },
  {
   "cell_type": "code",
   "execution_count": 17,
   "id": "2cb79011-67b7-44a3-a408-f0a53d4a289f",
   "metadata": {},
   "outputs": [
    {
     "name": "stdout",
     "output_type": "stream",
     "text": [
      "0\n",
      "1\n",
      "2\n",
      "3\n",
      "4\n"
     ]
    }
   ],
   "source": [
    "# for loop\n",
    "for i in range(5):\n",
    "    print(i)"
   ]
  },
  {
   "cell_type": "markdown",
   "id": "e73572c5-74a9-4a32-ac9e-3e5060b9a3e9",
   "metadata": {},
   "source": [
    "#### While Loop - The Endless Spell:  A while loop repeats as long as a certain boolean condition is met."
   ]
  },
  {
   "cell_type": "code",
   "execution_count": 18,
   "id": "4faa4cc1-d247-4a9d-9457-1497688f2f16",
   "metadata": {},
   "outputs": [
    {
     "name": "stdout",
     "output_type": "stream",
     "text": [
      "Loop iteration: 0\n",
      "Loop iteration: 1\n",
      "Loop iteration: 2\n"
     ]
    }
   ],
   "source": [
    "#while loop\n",
    "counter=0\n",
    "while counter<3:\n",
    "    print(\"Loop iteration:\", counter)\n",
    "    counter += 1"
   ]
  },
  {
   "cell_type": "markdown",
   "id": "9b983625-58cd-41ca-bae2-952a2a2cbdba",
   "metadata": {},
   "source": [
    "## Functions and Lambda Expressions.\n",
    "#### Unlock the secrets of Python functions, where spells become reusable incantations!\n",
    "##### Function: Functions are blocks of reusable code. They are defined using the def keyword."
   ]
  },
  {
   "cell_type": "code",
   "execution_count": 19,
   "id": "68b619d8-26ff-4e14-8906-2bf9de89a462",
   "metadata": {},
   "outputs": [
    {
     "name": "stdout",
     "output_type": "stream",
     "text": [
      "Hello, Alice!\n",
      "Hello,User!\n",
      "21\n"
     ]
    }
   ],
   "source": [
    "# Function definition\n",
    "def greet(name):\n",
    "    return \"Hello, \" +name+\"!\"\n",
    "\n",
    "# Function Call\n",
    "greeting=greet(\"Alice\")\n",
    "print(greeting)\n",
    "\n",
    "# Default Parameters in a function\n",
    "def greet(name=\"User\"):\n",
    "    return \"Hello,\" +name+\"!\"\n",
    "\n",
    "defgreeting=greet()\n",
    "print(defgreeting)\n",
    "\n",
    "# Variable length Arguments\n",
    "\n",
    "def sum_values(*args):\n",
    "    return sum(args)\n",
    "\n",
    "result= sum_values(1,2,3,4,5,6)\n",
    "print(result)"
   ]
  },
  {
   "cell_type": "markdown",
   "id": "b79bcbae-eb78-440b-92c6-37d7c9b41ca0",
   "metadata": {},
   "source": [
    "#### Lambda Expressions: Lambda expressions are anonymous functions defined using the lambda keyword."
   ]
  },
  {
   "cell_type": "code",
   "execution_count": 20,
   "id": "2395e191-6bab-41d6-ae45-271d917d35a4",
   "metadata": {},
   "outputs": [
    {
     "name": "stdout",
     "output_type": "stream",
     "text": [
      "12\n"
     ]
    }
   ],
   "source": [
    "# Lambda function\n",
    "multiply = lambda x,y: x*y\n",
    "result = multiply(3,4)\n",
    "print(result)"
   ]
  },
  {
   "cell_type": "markdown",
   "id": "f7a6dc0a-e2f0-49f7-bf78-afc6fdc23135",
   "metadata": {},
   "source": [
    "## Error Handling (try-except).\n",
    "#### Try-Except Block: Error handling allows you to gracefully handle exceptions that may occur during the execution of your code."
   ]
  },
  {
   "cell_type": "code",
   "execution_count": 12,
   "id": "3e08c35a-86fa-4be5-b202-1cba9ee95f9d",
   "metadata": {},
   "outputs": [
    {
     "name": "stdin",
     "output_type": "stream",
     "text": [
      "Enter a number: 6\n"
     ]
    },
    {
     "name": "stdout",
     "output_type": "stream",
     "text": [
      "Result: 1.6666666666666667\n"
     ]
    }
   ],
   "source": [
    "# Error Handling (try-except)\n",
    "\n",
    "try:\n",
    "    num_input = int(input(\"Enter a number:\"))\n",
    "    result=10/num_input\n",
    "    print(\"Result:\", result)\n",
    "\n",
    "except ZeroDivisionError:\n",
    "    print(\"Cannot divide by zero!\")\n",
    "\n",
    "except ValueError:\n",
    "    print(\"Invalid input. Please enter a valid number.\")"
   ]
  },
  {
   "cell_type": "markdown",
   "id": "8e3208a4-d303-417b-ab9c-3ae15fe8de55",
   "metadata": {},
   "source": [
    "## Basic File Operations - Unveiling Ancient Scrolls!\n",
    "#### Writing to a File: You can use the open() function with the mode \"w\" to write to a file.\n"
   ]
  },
  {
   "cell_type": "code",
   "execution_count": 22,
   "id": "f21e7bb1-bb8a-4f42-abee-d607e30f617b",
   "metadata": {},
   "outputs": [],
   "source": [
    "# Basic File Operations (reading/writing files)\n",
    "\n",
    "# Writing to a file\n",
    "with open(\"example.txt\",\"w\") as file:\n",
    "    file.write(\"Ths is an example file. \\nPython is fun\")"
   ]
  },
  {
   "cell_type": "markdown",
   "id": "9b7c44ad-1fce-4701-9593-ffb5cc560d80",
   "metadata": {},
   "source": [
    "#### Reading from a File: You can use the open() function with the mode \"r\" to read from a file."
   ]
  },
  {
   "cell_type": "code",
   "execution_count": 21,
   "id": "d6e67f9e-7793-4fed-9cc6-3617c91dc122",
   "metadata": {},
   "outputs": [
    {
     "name": "stdout",
     "output_type": "stream",
     "text": [
      "File content:\n",
      " Ths is an example file. \n",
      "Python is fun\n"
     ]
    }
   ],
   "source": [
    "# Reading from a file\n",
    "with open(\"example.txt\",\"r\") as file:\n",
    "    content=file.read()\n",
    "    print(\"File content:\\n\",content)"
   ]
  },
  {
   "cell_type": "code",
   "execution_count": null,
   "id": "27c102a6-889f-480b-81d9-e91fb649d170",
   "metadata": {},
   "outputs": [],
   "source": []
  }
 ],
 "metadata": {
  "kernelspec": {
   "display_name": "Python 3 (ipykernel)",
   "language": "python",
   "name": "python3"
  },
  "language_info": {
   "codemirror_mode": {
    "name": "ipython",
    "version": 3
   },
   "file_extension": ".py",
   "mimetype": "text/x-python",
   "name": "python",
   "nbconvert_exporter": "python",
   "pygments_lexer": "ipython3",
   "version": "3.11.6"
  }
 },
 "nbformat": 4,
 "nbformat_minor": 5
}
