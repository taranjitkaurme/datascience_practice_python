{
 "cells": [
  {
   "cell_type": "markdown",
   "id": "6345f944-5417-4607-a27c-56276a18ff07",
   "metadata": {},
   "source": [
    "## Pyspark Basics"
   ]
  },
  {
   "cell_type": "code",
   "execution_count": 49,
   "id": "20e31e81-2da7-4258-94cb-ca02c9461374",
   "metadata": {},
   "outputs": [],
   "source": [
    "import pyspark\n",
    "import pandas as pd"
   ]
  },
  {
   "cell_type": "code",
   "execution_count": 50,
   "id": "3efd506a-90b9-49ae-bd73-5746ab1d2bae",
   "metadata": {},
   "outputs": [],
   "source": [
    "p_df=pd.read_csv('customers-100.csv')"
   ]
  },
  {
   "cell_type": "code",
   "execution_count": 51,
   "id": "c458c6f0-967d-421f-9bb0-a51d43fb4f34",
   "metadata": {},
   "outputs": [
    {
     "data": {
      "text/html": [
       "<div>\n",
       "<style scoped>\n",
       "    .dataframe tbody tr th:only-of-type {\n",
       "        vertical-align: middle;\n",
       "    }\n",
       "\n",
       "    .dataframe tbody tr th {\n",
       "        vertical-align: top;\n",
       "    }\n",
       "\n",
       "    .dataframe thead th {\n",
       "        text-align: right;\n",
       "    }\n",
       "</style>\n",
       "<table border=\"1\" class=\"dataframe\">\n",
       "  <thead>\n",
       "    <tr style=\"text-align: right;\">\n",
       "      <th></th>\n",
       "      <th>Index</th>\n",
       "      <th>Customer Id</th>\n",
       "      <th>First Name</th>\n",
       "      <th>Last Name</th>\n",
       "      <th>Company</th>\n",
       "      <th>City</th>\n",
       "      <th>Country</th>\n",
       "      <th>Phone 1</th>\n",
       "      <th>Phone 2</th>\n",
       "      <th>Email</th>\n",
       "      <th>Subscription Date</th>\n",
       "      <th>Website</th>\n",
       "    </tr>\n",
       "  </thead>\n",
       "  <tbody>\n",
       "    <tr>\n",
       "      <th>0</th>\n",
       "      <td>1</td>\n",
       "      <td>DD37Cf93aecA6Dc</td>\n",
       "      <td>Sheryl</td>\n",
       "      <td>Baxter</td>\n",
       "      <td>Rasmussen Group</td>\n",
       "      <td>East Leonard</td>\n",
       "      <td>Chile</td>\n",
       "      <td>229.077.5154</td>\n",
       "      <td>397.884.0519x718</td>\n",
       "      <td>zunigavanessa@smith.info</td>\n",
       "      <td>2020-08-24</td>\n",
       "      <td>http://www.stephenson.com/</td>\n",
       "    </tr>\n",
       "    <tr>\n",
       "      <th>1</th>\n",
       "      <td>2</td>\n",
       "      <td>1Ef7b82A4CAAD10</td>\n",
       "      <td>Preston</td>\n",
       "      <td>Lozano</td>\n",
       "      <td>Vega-Gentry</td>\n",
       "      <td>East Jimmychester</td>\n",
       "      <td>Djibouti</td>\n",
       "      <td>5153435776</td>\n",
       "      <td>686-620-1820x944</td>\n",
       "      <td>vmata@colon.com</td>\n",
       "      <td>2021-04-23</td>\n",
       "      <td>http://www.hobbs.com/</td>\n",
       "    </tr>\n",
       "    <tr>\n",
       "      <th>2</th>\n",
       "      <td>3</td>\n",
       "      <td>6F94879bDAfE5a6</td>\n",
       "      <td>Roy</td>\n",
       "      <td>Berry</td>\n",
       "      <td>Murillo-Perry</td>\n",
       "      <td>Isabelborough</td>\n",
       "      <td>Antigua and Barbuda</td>\n",
       "      <td>+1-539-402-0259</td>\n",
       "      <td>(496)978-3969x58947</td>\n",
       "      <td>beckycarr@hogan.com</td>\n",
       "      <td>2020-03-25</td>\n",
       "      <td>http://www.lawrence.com/</td>\n",
       "    </tr>\n",
       "    <tr>\n",
       "      <th>3</th>\n",
       "      <td>4</td>\n",
       "      <td>5Cef8BFA16c5e3c</td>\n",
       "      <td>Linda</td>\n",
       "      <td>Olsen</td>\n",
       "      <td>Dominguez, Mcmillan and Donovan</td>\n",
       "      <td>Bensonview</td>\n",
       "      <td>Dominican Republic</td>\n",
       "      <td>001-808-617-6467x12895</td>\n",
       "      <td>+1-813-324-8756</td>\n",
       "      <td>stanleyblackwell@benson.org</td>\n",
       "      <td>2020-06-02</td>\n",
       "      <td>http://www.good-lyons.com/</td>\n",
       "    </tr>\n",
       "    <tr>\n",
       "      <th>4</th>\n",
       "      <td>5</td>\n",
       "      <td>053d585Ab6b3159</td>\n",
       "      <td>Joanna</td>\n",
       "      <td>Bender</td>\n",
       "      <td>Martin, Lang and Andrade</td>\n",
       "      <td>West Priscilla</td>\n",
       "      <td>Slovakia (Slovak Republic)</td>\n",
       "      <td>001-234-203-0635x76146</td>\n",
       "      <td>001-199-446-3860x3486</td>\n",
       "      <td>colinalvarado@miles.net</td>\n",
       "      <td>2021-04-17</td>\n",
       "      <td>https://goodwin-ingram.com/</td>\n",
       "    </tr>\n",
       "    <tr>\n",
       "      <th>...</th>\n",
       "      <td>...</td>\n",
       "      <td>...</td>\n",
       "      <td>...</td>\n",
       "      <td>...</td>\n",
       "      <td>...</td>\n",
       "      <td>...</td>\n",
       "      <td>...</td>\n",
       "      <td>...</td>\n",
       "      <td>...</td>\n",
       "      <td>...</td>\n",
       "      <td>...</td>\n",
       "      <td>...</td>\n",
       "    </tr>\n",
       "    <tr>\n",
       "      <th>95</th>\n",
       "      <td>96</td>\n",
       "      <td>cb8E23e48d22Eae</td>\n",
       "      <td>Karl</td>\n",
       "      <td>Greer</td>\n",
       "      <td>Carey LLC</td>\n",
       "      <td>East Richard</td>\n",
       "      <td>Guyana</td>\n",
       "      <td>(188)169-1674x58692</td>\n",
       "      <td>001-841-293-3519x614</td>\n",
       "      <td>hhart@jensen.com</td>\n",
       "      <td>2022-01-30</td>\n",
       "      <td>http://hayes-perez.com/</td>\n",
       "    </tr>\n",
       "    <tr>\n",
       "      <th>96</th>\n",
       "      <td>97</td>\n",
       "      <td>CeD220bdAaCfaDf</td>\n",
       "      <td>Lynn</td>\n",
       "      <td>Atkinson</td>\n",
       "      <td>Ware, Burns and Oneal</td>\n",
       "      <td>New Bradview</td>\n",
       "      <td>Sri Lanka</td>\n",
       "      <td>+1-846-706-2218</td>\n",
       "      <td>605.413.3198</td>\n",
       "      <td>vkemp@ferrell.com</td>\n",
       "      <td>2021-07-10</td>\n",
       "      <td>https://novak-allison.com/</td>\n",
       "    </tr>\n",
       "    <tr>\n",
       "      <th>97</th>\n",
       "      <td>98</td>\n",
       "      <td>28CDbC0dFe4b1Db</td>\n",
       "      <td>Fred</td>\n",
       "      <td>Guerra</td>\n",
       "      <td>Schmitt-Jones</td>\n",
       "      <td>Ortegaland</td>\n",
       "      <td>Solomon Islands</td>\n",
       "      <td>+1-753-067-8419x7170</td>\n",
       "      <td>+1-632-666-7507x92121</td>\n",
       "      <td>swagner@kane.org</td>\n",
       "      <td>2021-09-18</td>\n",
       "      <td>https://www.ross.com/</td>\n",
       "    </tr>\n",
       "    <tr>\n",
       "      <th>98</th>\n",
       "      <td>99</td>\n",
       "      <td>c23d1D9EE8DEB0A</td>\n",
       "      <td>Yvonne</td>\n",
       "      <td>Farmer</td>\n",
       "      <td>Fitzgerald-Harrell</td>\n",
       "      <td>Lake Elijahview</td>\n",
       "      <td>Aruba</td>\n",
       "      <td>(530)311-9786</td>\n",
       "      <td>001-869-452-0943x12424</td>\n",
       "      <td>mccarthystephen@horn-green.biz</td>\n",
       "      <td>2021-08-11</td>\n",
       "      <td>http://watkins.info/</td>\n",
       "    </tr>\n",
       "    <tr>\n",
       "      <th>99</th>\n",
       "      <td>100</td>\n",
       "      <td>2354a0E336A91A1</td>\n",
       "      <td>Clarence</td>\n",
       "      <td>Haynes</td>\n",
       "      <td>Le, Nash and Cross</td>\n",
       "      <td>Judymouth</td>\n",
       "      <td>Honduras</td>\n",
       "      <td>(753)813-6941</td>\n",
       "      <td>783.639.1472</td>\n",
       "      <td>colleen91@faulkner.biz</td>\n",
       "      <td>2020-03-11</td>\n",
       "      <td>http://www.hatfield-saunders.net/</td>\n",
       "    </tr>\n",
       "  </tbody>\n",
       "</table>\n",
       "<p>100 rows × 12 columns</p>\n",
       "</div>"
      ],
      "text/plain": [
       "    Index      Customer Id First Name Last Name  \\\n",
       "0       1  DD37Cf93aecA6Dc     Sheryl    Baxter   \n",
       "1       2  1Ef7b82A4CAAD10    Preston    Lozano   \n",
       "2       3  6F94879bDAfE5a6        Roy     Berry   \n",
       "3       4  5Cef8BFA16c5e3c      Linda     Olsen   \n",
       "4       5  053d585Ab6b3159     Joanna    Bender   \n",
       "..    ...              ...        ...       ...   \n",
       "95     96  cb8E23e48d22Eae       Karl     Greer   \n",
       "96     97  CeD220bdAaCfaDf       Lynn  Atkinson   \n",
       "97     98  28CDbC0dFe4b1Db       Fred    Guerra   \n",
       "98     99  c23d1D9EE8DEB0A     Yvonne    Farmer   \n",
       "99    100  2354a0E336A91A1   Clarence    Haynes   \n",
       "\n",
       "                            Company               City  \\\n",
       "0                   Rasmussen Group       East Leonard   \n",
       "1                       Vega-Gentry  East Jimmychester   \n",
       "2                     Murillo-Perry      Isabelborough   \n",
       "3   Dominguez, Mcmillan and Donovan         Bensonview   \n",
       "4          Martin, Lang and Andrade     West Priscilla   \n",
       "..                              ...                ...   \n",
       "95                        Carey LLC       East Richard   \n",
       "96            Ware, Burns and Oneal       New Bradview   \n",
       "97                    Schmitt-Jones         Ortegaland   \n",
       "98               Fitzgerald-Harrell    Lake Elijahview   \n",
       "99               Le, Nash and Cross          Judymouth   \n",
       "\n",
       "                       Country                 Phone 1  \\\n",
       "0                        Chile            229.077.5154   \n",
       "1                     Djibouti              5153435776   \n",
       "2          Antigua and Barbuda         +1-539-402-0259   \n",
       "3           Dominican Republic  001-808-617-6467x12895   \n",
       "4   Slovakia (Slovak Republic)  001-234-203-0635x76146   \n",
       "..                         ...                     ...   \n",
       "95                      Guyana     (188)169-1674x58692   \n",
       "96                   Sri Lanka         +1-846-706-2218   \n",
       "97             Solomon Islands    +1-753-067-8419x7170   \n",
       "98                       Aruba           (530)311-9786   \n",
       "99                    Honduras           (753)813-6941   \n",
       "\n",
       "                   Phone 2                           Email Subscription Date  \\\n",
       "0         397.884.0519x718        zunigavanessa@smith.info        2020-08-24   \n",
       "1         686-620-1820x944                 vmata@colon.com        2021-04-23   \n",
       "2      (496)978-3969x58947             beckycarr@hogan.com        2020-03-25   \n",
       "3          +1-813-324-8756     stanleyblackwell@benson.org        2020-06-02   \n",
       "4    001-199-446-3860x3486         colinalvarado@miles.net        2021-04-17   \n",
       "..                     ...                             ...               ...   \n",
       "95    001-841-293-3519x614                hhart@jensen.com        2022-01-30   \n",
       "96            605.413.3198               vkemp@ferrell.com        2021-07-10   \n",
       "97   +1-632-666-7507x92121                swagner@kane.org        2021-09-18   \n",
       "98  001-869-452-0943x12424  mccarthystephen@horn-green.biz        2021-08-11   \n",
       "99            783.639.1472          colleen91@faulkner.biz        2020-03-11   \n",
       "\n",
       "                              Website  \n",
       "0          http://www.stephenson.com/  \n",
       "1               http://www.hobbs.com/  \n",
       "2            http://www.lawrence.com/  \n",
       "3          http://www.good-lyons.com/  \n",
       "4         https://goodwin-ingram.com/  \n",
       "..                                ...  \n",
       "95            http://hayes-perez.com/  \n",
       "96         https://novak-allison.com/  \n",
       "97              https://www.ross.com/  \n",
       "98               http://watkins.info/  \n",
       "99  http://www.hatfield-saunders.net/  \n",
       "\n",
       "[100 rows x 12 columns]"
      ]
     },
     "execution_count": 51,
     "metadata": {},
     "output_type": "execute_result"
    }
   ],
   "source": [
    "p_df"
   ]
  },
  {
   "cell_type": "code",
   "execution_count": 52,
   "id": "e7418bf6-2352-4f2a-af0b-ffc23254ace4",
   "metadata": {},
   "outputs": [
    {
     "data": {
      "text/plain": [
       "pandas.core.frame.DataFrame"
      ]
     },
     "execution_count": 52,
     "metadata": {},
     "output_type": "execute_result"
    }
   ],
   "source": [
    "type(p_df)"
   ]
  },
  {
   "cell_type": "code",
   "execution_count": 53,
   "id": "2fa76733-9f80-4854-b278-7eb38360e4d2",
   "metadata": {},
   "outputs": [
    {
     "data": {
      "text/html": [
       "<div>\n",
       "<style scoped>\n",
       "    .dataframe tbody tr th:only-of-type {\n",
       "        vertical-align: middle;\n",
       "    }\n",
       "\n",
       "    .dataframe tbody tr th {\n",
       "        vertical-align: top;\n",
       "    }\n",
       "\n",
       "    .dataframe thead th {\n",
       "        text-align: right;\n",
       "    }\n",
       "</style>\n",
       "<table border=\"1\" class=\"dataframe\">\n",
       "  <thead>\n",
       "    <tr style=\"text-align: right;\">\n",
       "      <th></th>\n",
       "      <th>Index</th>\n",
       "      <th>Customer Id</th>\n",
       "      <th>First Name</th>\n",
       "      <th>Last Name</th>\n",
       "      <th>Company</th>\n",
       "      <th>City</th>\n",
       "      <th>Country</th>\n",
       "      <th>Phone 1</th>\n",
       "      <th>Phone 2</th>\n",
       "      <th>Email</th>\n",
       "      <th>Subscription Date</th>\n",
       "      <th>Website</th>\n",
       "    </tr>\n",
       "  </thead>\n",
       "  <tbody>\n",
       "    <tr>\n",
       "      <th>0</th>\n",
       "      <td>1</td>\n",
       "      <td>DD37Cf93aecA6Dc</td>\n",
       "      <td>Sheryl</td>\n",
       "      <td>Baxter</td>\n",
       "      <td>Rasmussen Group</td>\n",
       "      <td>East Leonard</td>\n",
       "      <td>Chile</td>\n",
       "      <td>229.077.5154</td>\n",
       "      <td>397.884.0519x718</td>\n",
       "      <td>zunigavanessa@smith.info</td>\n",
       "      <td>2020-08-24</td>\n",
       "      <td>http://www.stephenson.com/</td>\n",
       "    </tr>\n",
       "    <tr>\n",
       "      <th>1</th>\n",
       "      <td>2</td>\n",
       "      <td>1Ef7b82A4CAAD10</td>\n",
       "      <td>Preston</td>\n",
       "      <td>Lozano</td>\n",
       "      <td>Vega-Gentry</td>\n",
       "      <td>East Jimmychester</td>\n",
       "      <td>Djibouti</td>\n",
       "      <td>5153435776</td>\n",
       "      <td>686-620-1820x944</td>\n",
       "      <td>vmata@colon.com</td>\n",
       "      <td>2021-04-23</td>\n",
       "      <td>http://www.hobbs.com/</td>\n",
       "    </tr>\n",
       "    <tr>\n",
       "      <th>2</th>\n",
       "      <td>3</td>\n",
       "      <td>6F94879bDAfE5a6</td>\n",
       "      <td>Roy</td>\n",
       "      <td>Berry</td>\n",
       "      <td>Murillo-Perry</td>\n",
       "      <td>Isabelborough</td>\n",
       "      <td>Antigua and Barbuda</td>\n",
       "      <td>+1-539-402-0259</td>\n",
       "      <td>(496)978-3969x58947</td>\n",
       "      <td>beckycarr@hogan.com</td>\n",
       "      <td>2020-03-25</td>\n",
       "      <td>http://www.lawrence.com/</td>\n",
       "    </tr>\n",
       "    <tr>\n",
       "      <th>3</th>\n",
       "      <td>4</td>\n",
       "      <td>5Cef8BFA16c5e3c</td>\n",
       "      <td>Linda</td>\n",
       "      <td>Olsen</td>\n",
       "      <td>Dominguez, Mcmillan and Donovan</td>\n",
       "      <td>Bensonview</td>\n",
       "      <td>Dominican Republic</td>\n",
       "      <td>001-808-617-6467x12895</td>\n",
       "      <td>+1-813-324-8756</td>\n",
       "      <td>stanleyblackwell@benson.org</td>\n",
       "      <td>2020-06-02</td>\n",
       "      <td>http://www.good-lyons.com/</td>\n",
       "    </tr>\n",
       "    <tr>\n",
       "      <th>4</th>\n",
       "      <td>5</td>\n",
       "      <td>053d585Ab6b3159</td>\n",
       "      <td>Joanna</td>\n",
       "      <td>Bender</td>\n",
       "      <td>Martin, Lang and Andrade</td>\n",
       "      <td>West Priscilla</td>\n",
       "      <td>Slovakia (Slovak Republic)</td>\n",
       "      <td>001-234-203-0635x76146</td>\n",
       "      <td>001-199-446-3860x3486</td>\n",
       "      <td>colinalvarado@miles.net</td>\n",
       "      <td>2021-04-17</td>\n",
       "      <td>https://goodwin-ingram.com/</td>\n",
       "    </tr>\n",
       "  </tbody>\n",
       "</table>\n",
       "</div>"
      ],
      "text/plain": [
       "   Index      Customer Id First Name Last Name  \\\n",
       "0      1  DD37Cf93aecA6Dc     Sheryl    Baxter   \n",
       "1      2  1Ef7b82A4CAAD10    Preston    Lozano   \n",
       "2      3  6F94879bDAfE5a6        Roy     Berry   \n",
       "3      4  5Cef8BFA16c5e3c      Linda     Olsen   \n",
       "4      5  053d585Ab6b3159     Joanna    Bender   \n",
       "\n",
       "                           Company               City  \\\n",
       "0                  Rasmussen Group       East Leonard   \n",
       "1                      Vega-Gentry  East Jimmychester   \n",
       "2                    Murillo-Perry      Isabelborough   \n",
       "3  Dominguez, Mcmillan and Donovan         Bensonview   \n",
       "4         Martin, Lang and Andrade     West Priscilla   \n",
       "\n",
       "                      Country                 Phone 1                Phone 2  \\\n",
       "0                       Chile            229.077.5154       397.884.0519x718   \n",
       "1                    Djibouti              5153435776       686-620-1820x944   \n",
       "2         Antigua and Barbuda         +1-539-402-0259    (496)978-3969x58947   \n",
       "3          Dominican Republic  001-808-617-6467x12895        +1-813-324-8756   \n",
       "4  Slovakia (Slovak Republic)  001-234-203-0635x76146  001-199-446-3860x3486   \n",
       "\n",
       "                         Email Subscription Date                      Website  \n",
       "0     zunigavanessa@smith.info        2020-08-24   http://www.stephenson.com/  \n",
       "1              vmata@colon.com        2021-04-23        http://www.hobbs.com/  \n",
       "2          beckycarr@hogan.com        2020-03-25     http://www.lawrence.com/  \n",
       "3  stanleyblackwell@benson.org        2020-06-02   http://www.good-lyons.com/  \n",
       "4      colinalvarado@miles.net        2021-04-17  https://goodwin-ingram.com/  "
      ]
     },
     "execution_count": 53,
     "metadata": {},
     "output_type": "execute_result"
    }
   ],
   "source": [
    "p_df.head()"
   ]
  },
  {
   "cell_type": "code",
   "execution_count": 54,
   "id": "36ef8ef8-d856-433a-ae15-18f90ccf82e6",
   "metadata": {},
   "outputs": [],
   "source": [
    "from pyspark.sql import SparkSession"
   ]
  },
  {
   "cell_type": "code",
   "execution_count": 55,
   "id": "e65507c7-1892-406b-8883-b84569ff96b8",
   "metadata": {},
   "outputs": [],
   "source": [
    "spark=SparkSession.builder.appName('Practise').getOrCreate()"
   ]
  },
  {
   "cell_type": "code",
   "execution_count": 56,
   "id": "92e78ea5-693a-408b-9d0c-d049000bbb53",
   "metadata": {},
   "outputs": [
    {
     "data": {
      "text/html": [
       "\n",
       "            <div>\n",
       "                <p><b>SparkSession - in-memory</b></p>\n",
       "                \n",
       "        <div>\n",
       "            <p><b>SparkContext</b></p>\n",
       "\n",
       "            <p><a href=\"http://host.docker.internal:4040\">Spark UI</a></p>\n",
       "\n",
       "            <dl>\n",
       "              <dt>Version</dt>\n",
       "                <dd><code>v3.5.1</code></dd>\n",
       "              <dt>Master</dt>\n",
       "                <dd><code>local[*]</code></dd>\n",
       "              <dt>AppName</dt>\n",
       "                <dd><code>Practise</code></dd>\n",
       "            </dl>\n",
       "        </div>\n",
       "        \n",
       "            </div>\n",
       "        "
      ],
      "text/plain": [
       "<pyspark.sql.session.SparkSession at 0x20053174150>"
      ]
     },
     "execution_count": 56,
     "metadata": {},
     "output_type": "execute_result"
    }
   ],
   "source": [
    "spark"
   ]
  },
  {
   "cell_type": "code",
   "execution_count": 57,
   "id": "5d3f41e5-b8ed-4e2a-99c4-03249b17e38e",
   "metadata": {},
   "outputs": [],
   "source": [
    "df_spark= spark.read.csv('customers-100.csv')"
   ]
  },
  {
   "cell_type": "code",
   "execution_count": 58,
   "id": "8ffc8d7d-31db-419d-b794-be56173094d9",
   "metadata": {},
   "outputs": [
    {
     "data": {
      "text/plain": [
       "DataFrame[_c0: string, _c1: string, _c2: string, _c3: string, _c4: string, _c5: string, _c6: string, _c7: string, _c8: string, _c9: string, _c10: string, _c11: string]"
      ]
     },
     "execution_count": 58,
     "metadata": {},
     "output_type": "execute_result"
    }
   ],
   "source": [
    "df_spark"
   ]
  },
  {
   "cell_type": "code",
   "execution_count": 59,
   "id": "342a8ced-fe95-4af1-b06f-71b73cfadd48",
   "metadata": {},
   "outputs": [
    {
     "name": "stdout",
     "output_type": "stream",
     "text": [
      "+-----+---------------+----------+---------+--------------------+-----------------+--------------------+--------------------+--------------------+--------------------+-----------------+--------------------+\n",
      "|  _c0|            _c1|       _c2|      _c3|                 _c4|              _c5|                 _c6|                 _c7|                 _c8|                 _c9|             _c10|                _c11|\n",
      "+-----+---------------+----------+---------+--------------------+-----------------+--------------------+--------------------+--------------------+--------------------+-----------------+--------------------+\n",
      "|Index|    Customer Id|First Name|Last Name|             Company|             City|             Country|             Phone 1|             Phone 2|               Email|Subscription Date|             Website|\n",
      "|    1|DD37Cf93aecA6Dc|    Sheryl|   Baxter|     Rasmussen Group|     East Leonard|               Chile|        229.077.5154|    397.884.0519x718|zunigavanessa@smi...|       2020-08-24|http://www.stephe...|\n",
      "|    2|1Ef7b82A4CAAD10|   Preston|   Lozano|         Vega-Gentry|East Jimmychester|            Djibouti|          5153435776|    686-620-1820x944|     vmata@colon.com|       2021-04-23|http://www.hobbs....|\n",
      "|    3|6F94879bDAfE5a6|       Roy|    Berry|       Murillo-Perry|    Isabelborough| Antigua and Barbuda|     +1-539-402-0259| (496)978-3969x58947| beckycarr@hogan.com|       2020-03-25|http://www.lawren...|\n",
      "|    4|5Cef8BFA16c5e3c|     Linda|    Olsen|Dominguez, Mcmill...|       Bensonview|  Dominican Republic|001-808-617-6467x...|     +1-813-324-8756|stanleyblackwell@...|       2020-06-02|http://www.good-l...|\n",
      "|    5|053d585Ab6b3159|    Joanna|   Bender|Martin, Lang and ...|   West Priscilla|Slovakia (Slovak ...|001-234-203-0635x...|001-199-446-3860x...|colinalvarado@mil...|       2021-04-17|https://goodwin-i...|\n",
      "|    6|2d08FB17EE273F4|     Aimee|    Downs|        Steele Group|    Chavezborough|Bosnia and Herzeg...| (283)437-3886x88321|        999-728-1637| louis27@gilbert.com|       2020-02-25|http://www.berger...|\n",
      "|    7|EA4d384DfDbBf77|    Darren|     Peck|Lester, Woodard a...|         Lake Ana|    Pitcairn Islands|  (496)452-6181x3291|+1-247-266-0963x4995| tgates@cantrell.com|       2021-08-24| https://www.le.com/|\n",
      "|    8|0e04AFde9f225dE|     Brett|   Mullen|Sanford, Davenpor...|          Kimport|            Bulgaria|001-583-352-7197x297|    001-333-145-0369|     asnow@colon.com|       2021-04-12|https://hammond-r...|\n",
      "|    9|C2dE4dEEc489ae0|    Sheryl|   Meyers|      Browning-Simon|     Robersonstad|              Cyprus|   854-138-4911x5772| +1-448-910-2276x729|mariokhan@ryan-po...|       2020-01-13|https://www.bullo...|\n",
      "|   10|8C2811a503C7c5a|  Michelle|Gallagher|        Beck-Hendrix|       Elaineberg|         Timor-Leste|    739.218.2516x459|001-054-401-0347x617|   mdyer@escobar.net|       2021-11-08|  https://arias.com/|\n",
      "|   11|216E205d6eBb815|      Carl|Schroeder|Oconnell, Meza an...|     Shannonville|            Guernsey|    637-854-0256x825|    114.336.0784x788|  kirksalas@webb.com|       2021-10-20|https://simmons-h...|\n",
      "|   12|CEDec94deE6d69B|     Jenna|   Dodson|Hoffman, Reed and...|      East Andrea|             Vietnam|       (041)737-3846|+1-556-888-3485x4...|  mark42@robbins.com|       2020-11-29|http://www.dougla...|\n",
      "|   13|e35426EbDEceaFF|    Tracey|     Mata|      Graham-Francis|South Joannamouth|                Togo|    001-949-844-8787|       (855)713-8773|    alex56@walls.org|       2021-12-02|http://www.beck.com/|\n",
      "|   14|A08A8aF8BE9FaD4|  Kristine|      Cox|      Carpenter-Cook|         Jodyberg|           Sri Lanka|  786-284-3358x62152|+1-315-627-1796x8074|holdenmiranda@cla...|       2021-02-08|https://www.brand...|\n",
      "|   15|6fEaA1b7cab7B6C|     Faith|     Lutz|      Carter-Hancock|        Burchbury|           Singapore|  (781)861-7180x8306|        207-185-3665|cassieparrish@ble...|       2022-01-26|http://stevenson....|\n",
      "|   16|8cad0b4CBceaeec|   Miranda|  Beasley|  Singleton and Sons|     Desireeshire|                Oman|    540.085.3135x185|+1-600-462-6432x2...|vduncan@parks-har...|       2022-04-12|  http://acosta.org/|\n",
      "|   17|a5DC21AE3a21eaA|  Caroline|    Foley|     Winters-Mendoza|West Adriennestad|      Western Sahara|   936.222.4746x9924|001-469-948-6341x359|holtgwendolyn@wat...|       2021-03-10|http://www.benson...|\n",
      "|   18|F8Aa9d6DfcBeeF8|      Greg|     Mata|       Valentine LLC|      Lake Leslie|          Mozambique|       (701)087-2415| (195)156-1861x26241|jaredjuarez@carro...|       2022-03-26|http://pitts-cher...|\n",
      "|   19|F160f5Db3EfE973|  Clifford| Jacobson|           Simon LLC|       Harmonview|South Georgia and...|001-151-330-3524x...|       (748)477-7174|joseph26@jacobson...|       2020-09-24|https://mcconnell...|\n",
      "+-----+---------------+----------+---------+--------------------+-----------------+--------------------+--------------------+--------------------+--------------------+-----------------+--------------------+\n",
      "only showing top 20 rows\n",
      "\n"
     ]
    }
   ],
   "source": [
    "df_spark.show()"
   ]
  },
  {
   "cell_type": "code",
   "execution_count": 60,
   "id": "9402e4ec-4470-499d-8d7c-a782a0e79226",
   "metadata": {},
   "outputs": [],
   "source": [
    "df_spark_withHeader=spark.read.option('header', 'true').csv('customers-100.csv')"
   ]
  },
  {
   "cell_type": "code",
   "execution_count": 61,
   "id": "22d07601-9149-4085-b725-211498a152f7",
   "metadata": {},
   "outputs": [
    {
     "name": "stdout",
     "output_type": "stream",
     "text": [
      "+-----+---------------+----------+---------+--------------------+-----------------+--------------------+--------------------+--------------------+--------------------+-----------------+--------------------+\n",
      "|Index|    Customer Id|First Name|Last Name|             Company|             City|             Country|             Phone 1|             Phone 2|               Email|Subscription Date|             Website|\n",
      "+-----+---------------+----------+---------+--------------------+-----------------+--------------------+--------------------+--------------------+--------------------+-----------------+--------------------+\n",
      "|    1|DD37Cf93aecA6Dc|    Sheryl|   Baxter|     Rasmussen Group|     East Leonard|               Chile|        229.077.5154|    397.884.0519x718|zunigavanessa@smi...|       2020-08-24|http://www.stephe...|\n",
      "|    2|1Ef7b82A4CAAD10|   Preston|   Lozano|         Vega-Gentry|East Jimmychester|            Djibouti|          5153435776|    686-620-1820x944|     vmata@colon.com|       2021-04-23|http://www.hobbs....|\n",
      "|    3|6F94879bDAfE5a6|       Roy|    Berry|       Murillo-Perry|    Isabelborough| Antigua and Barbuda|     +1-539-402-0259| (496)978-3969x58947| beckycarr@hogan.com|       2020-03-25|http://www.lawren...|\n",
      "|    4|5Cef8BFA16c5e3c|     Linda|    Olsen|Dominguez, Mcmill...|       Bensonview|  Dominican Republic|001-808-617-6467x...|     +1-813-324-8756|stanleyblackwell@...|       2020-06-02|http://www.good-l...|\n",
      "|    5|053d585Ab6b3159|    Joanna|   Bender|Martin, Lang and ...|   West Priscilla|Slovakia (Slovak ...|001-234-203-0635x...|001-199-446-3860x...|colinalvarado@mil...|       2021-04-17|https://goodwin-i...|\n",
      "|    6|2d08FB17EE273F4|     Aimee|    Downs|        Steele Group|    Chavezborough|Bosnia and Herzeg...| (283)437-3886x88321|        999-728-1637| louis27@gilbert.com|       2020-02-25|http://www.berger...|\n",
      "|    7|EA4d384DfDbBf77|    Darren|     Peck|Lester, Woodard a...|         Lake Ana|    Pitcairn Islands|  (496)452-6181x3291|+1-247-266-0963x4995| tgates@cantrell.com|       2021-08-24| https://www.le.com/|\n",
      "|    8|0e04AFde9f225dE|     Brett|   Mullen|Sanford, Davenpor...|          Kimport|            Bulgaria|001-583-352-7197x297|    001-333-145-0369|     asnow@colon.com|       2021-04-12|https://hammond-r...|\n",
      "|    9|C2dE4dEEc489ae0|    Sheryl|   Meyers|      Browning-Simon|     Robersonstad|              Cyprus|   854-138-4911x5772| +1-448-910-2276x729|mariokhan@ryan-po...|       2020-01-13|https://www.bullo...|\n",
      "|   10|8C2811a503C7c5a|  Michelle|Gallagher|        Beck-Hendrix|       Elaineberg|         Timor-Leste|    739.218.2516x459|001-054-401-0347x617|   mdyer@escobar.net|       2021-11-08|  https://arias.com/|\n",
      "|   11|216E205d6eBb815|      Carl|Schroeder|Oconnell, Meza an...|     Shannonville|            Guernsey|    637-854-0256x825|    114.336.0784x788|  kirksalas@webb.com|       2021-10-20|https://simmons-h...|\n",
      "|   12|CEDec94deE6d69B|     Jenna|   Dodson|Hoffman, Reed and...|      East Andrea|             Vietnam|       (041)737-3846|+1-556-888-3485x4...|  mark42@robbins.com|       2020-11-29|http://www.dougla...|\n",
      "|   13|e35426EbDEceaFF|    Tracey|     Mata|      Graham-Francis|South Joannamouth|                Togo|    001-949-844-8787|       (855)713-8773|    alex56@walls.org|       2021-12-02|http://www.beck.com/|\n",
      "|   14|A08A8aF8BE9FaD4|  Kristine|      Cox|      Carpenter-Cook|         Jodyberg|           Sri Lanka|  786-284-3358x62152|+1-315-627-1796x8074|holdenmiranda@cla...|       2021-02-08|https://www.brand...|\n",
      "|   15|6fEaA1b7cab7B6C|     Faith|     Lutz|      Carter-Hancock|        Burchbury|           Singapore|  (781)861-7180x8306|        207-185-3665|cassieparrish@ble...|       2022-01-26|http://stevenson....|\n",
      "|   16|8cad0b4CBceaeec|   Miranda|  Beasley|  Singleton and Sons|     Desireeshire|                Oman|    540.085.3135x185|+1-600-462-6432x2...|vduncan@parks-har...|       2022-04-12|  http://acosta.org/|\n",
      "|   17|a5DC21AE3a21eaA|  Caroline|    Foley|     Winters-Mendoza|West Adriennestad|      Western Sahara|   936.222.4746x9924|001-469-948-6341x359|holtgwendolyn@wat...|       2021-03-10|http://www.benson...|\n",
      "|   18|F8Aa9d6DfcBeeF8|      Greg|     Mata|       Valentine LLC|      Lake Leslie|          Mozambique|       (701)087-2415| (195)156-1861x26241|jaredjuarez@carro...|       2022-03-26|http://pitts-cher...|\n",
      "|   19|F160f5Db3EfE973|  Clifford| Jacobson|           Simon LLC|       Harmonview|South Georgia and...|001-151-330-3524x...|       (748)477-7174|joseph26@jacobson...|       2020-09-24|https://mcconnell...|\n",
      "|   20|0F60FF3DdCd7aB0|    Joanna|     Kirk|      Mays-Mccormick|       Jamesshire|    French Polynesia|   (266)131-7001x711| (283)312-5579x11543|tuckerangie@salaz...|       2021-09-24|https://www.camac...|\n",
      "+-----+---------------+----------+---------+--------------------+-----------------+--------------------+--------------------+--------------------+--------------------+-----------------+--------------------+\n",
      "only showing top 20 rows\n",
      "\n"
     ]
    }
   ],
   "source": [
    "df_spark_withHeader.show()"
   ]
  },
  {
   "cell_type": "code",
   "execution_count": 62,
   "id": "67e8f2a2-adfc-4a70-95c2-bbfdc8903017",
   "metadata": {},
   "outputs": [
    {
     "data": {
      "text/plain": [
       "pyspark.sql.dataframe.DataFrame"
      ]
     },
     "execution_count": 62,
     "metadata": {},
     "output_type": "execute_result"
    }
   ],
   "source": [
    "type(df_spark_withHeader)"
   ]
  },
  {
   "cell_type": "code",
   "execution_count": 63,
   "id": "b47f9596-d614-4c1b-aa12-c3756d56b512",
   "metadata": {},
   "outputs": [
    {
     "data": {
      "text/plain": [
       "Row(Index='1', Customer Id='DD37Cf93aecA6Dc', First Name='Sheryl', Last Name='Baxter', Company='Rasmussen Group', City='East Leonard', Country='Chile', Phone 1='229.077.5154', Phone 2='397.884.0519x718', Email='zunigavanessa@smith.info', Subscription Date='2020-08-24', Website='http://www.stephenson.com/')"
      ]
     },
     "execution_count": 63,
     "metadata": {},
     "output_type": "execute_result"
    }
   ],
   "source": [
    "df_spark_withHeader.head()"
   ]
  },
  {
   "cell_type": "code",
   "execution_count": 64,
   "id": "077bd754-356f-406e-a7f1-ebde9d354c5a",
   "metadata": {},
   "outputs": [
    {
     "data": {
      "text/plain": [
       "[Row(Index='1', Customer Id='DD37Cf93aecA6Dc', First Name='Sheryl', Last Name='Baxter', Company='Rasmussen Group', City='East Leonard', Country='Chile', Phone 1='229.077.5154', Phone 2='397.884.0519x718', Email='zunigavanessa@smith.info', Subscription Date='2020-08-24', Website='http://www.stephenson.com/'),\n",
       " Row(Index='2', Customer Id='1Ef7b82A4CAAD10', First Name='Preston', Last Name='Lozano', Company='Vega-Gentry', City='East Jimmychester', Country='Djibouti', Phone 1='5153435776', Phone 2='686-620-1820x944', Email='vmata@colon.com', Subscription Date='2021-04-23', Website='http://www.hobbs.com/'),\n",
       " Row(Index='3', Customer Id='6F94879bDAfE5a6', First Name='Roy', Last Name='Berry', Company='Murillo-Perry', City='Isabelborough', Country='Antigua and Barbuda', Phone 1='+1-539-402-0259', Phone 2='(496)978-3969x58947', Email='beckycarr@hogan.com', Subscription Date='2020-03-25', Website='http://www.lawrence.com/')]"
      ]
     },
     "execution_count": 64,
     "metadata": {},
     "output_type": "execute_result"
    }
   ],
   "source": [
    "df_spark_withHeader.head(3)"
   ]
  },
  {
   "cell_type": "code",
   "execution_count": 65,
   "id": "e2b686bd-81b5-4870-80ce-16eec1f205ac",
   "metadata": {},
   "outputs": [
    {
     "name": "stdout",
     "output_type": "stream",
     "text": [
      "root\n",
      " |-- Index: string (nullable = true)\n",
      " |-- Customer Id: string (nullable = true)\n",
      " |-- First Name: string (nullable = true)\n",
      " |-- Last Name: string (nullable = true)\n",
      " |-- Company: string (nullable = true)\n",
      " |-- City: string (nullable = true)\n",
      " |-- Country: string (nullable = true)\n",
      " |-- Phone 1: string (nullable = true)\n",
      " |-- Phone 2: string (nullable = true)\n",
      " |-- Email: string (nullable = true)\n",
      " |-- Subscription Date: string (nullable = true)\n",
      " |-- Website: string (nullable = true)\n",
      "\n"
     ]
    }
   ],
   "source": [
    "df_spark_withHeader.printSchema()"
   ]
  },
  {
   "cell_type": "markdown",
   "id": "8a574b28-75bc-45d1-90c9-05ce831a761e",
   "metadata": {},
   "source": [
    "## Pyspark DataFrame"
   ]
  },
  {
   "cell_type": "code",
   "execution_count": 66,
   "id": "32b5c244-6625-479a-a259-e1a10e0da6ad",
   "metadata": {},
   "outputs": [],
   "source": [
    "df_spark_inferSchema= spark.read.option('header','true').csv('customers-100.csv',inferSchema=True)"
   ]
  },
  {
   "cell_type": "code",
   "execution_count": 67,
   "id": "ea0e8306-9e22-432e-be05-f174bbd34cc6",
   "metadata": {},
   "outputs": [
    {
     "name": "stdout",
     "output_type": "stream",
     "text": [
      "root\n",
      " |-- Index: integer (nullable = true)\n",
      " |-- Customer Id: string (nullable = true)\n",
      " |-- First Name: string (nullable = true)\n",
      " |-- Last Name: string (nullable = true)\n",
      " |-- Company: string (nullable = true)\n",
      " |-- City: string (nullable = true)\n",
      " |-- Country: string (nullable = true)\n",
      " |-- Phone 1: string (nullable = true)\n",
      " |-- Phone 2: string (nullable = true)\n",
      " |-- Email: string (nullable = true)\n",
      " |-- Subscription Date: date (nullable = true)\n",
      " |-- Website: string (nullable = true)\n",
      "\n"
     ]
    }
   ],
   "source": [
    "df_spark_inferSchema.printSchema()"
   ]
  },
  {
   "cell_type": "code",
   "execution_count": 68,
   "id": "658dfe15-7e51-40aa-81cb-c56c64a4cf81",
   "metadata": {},
   "outputs": [],
   "source": [
    "df_spark_inferSchema2=spark.read.csv('customers-100.csv',header='true', inferSchema='true')"
   ]
  },
  {
   "cell_type": "code",
   "execution_count": 69,
   "id": "5f6b5903-75f3-4648-81c5-29a874d30429",
   "metadata": {},
   "outputs": [
    {
     "name": "stdout",
     "output_type": "stream",
     "text": [
      "root\n",
      " |-- Index: integer (nullable = true)\n",
      " |-- Customer Id: string (nullable = true)\n",
      " |-- First Name: string (nullable = true)\n",
      " |-- Last Name: string (nullable = true)\n",
      " |-- Company: string (nullable = true)\n",
      " |-- City: string (nullable = true)\n",
      " |-- Country: string (nullable = true)\n",
      " |-- Phone 1: string (nullable = true)\n",
      " |-- Phone 2: string (nullable = true)\n",
      " |-- Email: string (nullable = true)\n",
      " |-- Subscription Date: date (nullable = true)\n",
      " |-- Website: string (nullable = true)\n",
      "\n"
     ]
    }
   ],
   "source": [
    "df_spark_inferSchema2.printSchema()"
   ]
  },
  {
   "cell_type": "code",
   "execution_count": 70,
   "id": "42f3231a-d9d3-479b-82aa-fb8228c9f246",
   "metadata": {},
   "outputs": [
    {
     "data": {
      "text/plain": [
       "['Index',\n",
       " 'Customer Id',\n",
       " 'First Name',\n",
       " 'Last Name',\n",
       " 'Company',\n",
       " 'City',\n",
       " 'Country',\n",
       " 'Phone 1',\n",
       " 'Phone 2',\n",
       " 'Email',\n",
       " 'Subscription Date',\n",
       " 'Website']"
      ]
     },
     "execution_count": 70,
     "metadata": {},
     "output_type": "execute_result"
    }
   ],
   "source": [
    "df_spark_inferSchema2.columns"
   ]
  },
  {
   "cell_type": "code",
   "execution_count": 71,
   "id": "6ef98ddd-b08f-4f9d-b290-28557b0e851a",
   "metadata": {},
   "outputs": [
    {
     "name": "stdout",
     "output_type": "stream",
     "text": [
      "+-----------------+\n",
      "|             City|\n",
      "+-----------------+\n",
      "|     East Leonard|\n",
      "|East Jimmychester|\n",
      "|    Isabelborough|\n",
      "|       Bensonview|\n",
      "|   West Priscilla|\n",
      "|    Chavezborough|\n",
      "|         Lake Ana|\n",
      "|          Kimport|\n",
      "|     Robersonstad|\n",
      "|       Elaineberg|\n",
      "|     Shannonville|\n",
      "|      East Andrea|\n",
      "|South Joannamouth|\n",
      "|         Jodyberg|\n",
      "|        Burchbury|\n",
      "|     Desireeshire|\n",
      "|West Adriennestad|\n",
      "|      Lake Leslie|\n",
      "|       Harmonview|\n",
      "|       Jamesshire|\n",
      "+-----------------+\n",
      "only showing top 20 rows\n",
      "\n"
     ]
    }
   ],
   "source": [
    "df_spark_inferSchema2.select('City').show()"
   ]
  },
  {
   "cell_type": "code",
   "execution_count": 72,
   "id": "eab3237e-d0f4-4a56-9a33-2729184047b8",
   "metadata": {},
   "outputs": [
    {
     "name": "stdout",
     "output_type": "stream",
     "text": [
      "+-----------------+--------------------+\n",
      "|             City|               Email|\n",
      "+-----------------+--------------------+\n",
      "|     East Leonard|zunigavanessa@smi...|\n",
      "|East Jimmychester|     vmata@colon.com|\n",
      "|    Isabelborough| beckycarr@hogan.com|\n",
      "|       Bensonview|stanleyblackwell@...|\n",
      "|   West Priscilla|colinalvarado@mil...|\n",
      "|    Chavezborough| louis27@gilbert.com|\n",
      "|         Lake Ana| tgates@cantrell.com|\n",
      "|          Kimport|     asnow@colon.com|\n",
      "|     Robersonstad|mariokhan@ryan-po...|\n",
      "|       Elaineberg|   mdyer@escobar.net|\n",
      "|     Shannonville|  kirksalas@webb.com|\n",
      "|      East Andrea|  mark42@robbins.com|\n",
      "|South Joannamouth|    alex56@walls.org|\n",
      "|         Jodyberg|holdenmiranda@cla...|\n",
      "|        Burchbury|cassieparrish@ble...|\n",
      "|     Desireeshire|vduncan@parks-har...|\n",
      "|West Adriennestad|holtgwendolyn@wat...|\n",
      "|      Lake Leslie|jaredjuarez@carro...|\n",
      "|       Harmonview|joseph26@jacobson...|\n",
      "|       Jamesshire|tuckerangie@salaz...|\n",
      "+-----------------+--------------------+\n",
      "only showing top 20 rows\n",
      "\n"
     ]
    }
   ],
   "source": [
    "df_spark_inferSchema2.select(['City', 'Email']).show()"
   ]
  },
  {
   "cell_type": "code",
   "execution_count": 73,
   "id": "a62b70ef-2bad-4428-948a-9563b41f592b",
   "metadata": {},
   "outputs": [
    {
     "data": {
      "text/plain": [
       "[('Index', 'int'),\n",
       " ('Customer Id', 'string'),\n",
       " ('First Name', 'string'),\n",
       " ('Last Name', 'string'),\n",
       " ('Company', 'string'),\n",
       " ('City', 'string'),\n",
       " ('Country', 'string'),\n",
       " ('Phone 1', 'string'),\n",
       " ('Phone 2', 'string'),\n",
       " ('Email', 'string'),\n",
       " ('Subscription Date', 'date'),\n",
       " ('Website', 'string')]"
      ]
     },
     "execution_count": 73,
     "metadata": {},
     "output_type": "execute_result"
    }
   ],
   "source": [
    "df_spark_inferSchema2.dtypes"
   ]
  },
  {
   "cell_type": "code",
   "execution_count": 74,
   "id": "3c019467-7c78-4d43-a86f-d8f501fb6150",
   "metadata": {},
   "outputs": [
    {
     "data": {
      "text/plain": [
       "DataFrame[summary: string, Index: string, Customer Id: string, First Name: string, Last Name: string, Company: string, City: string, Country: string, Phone 1: string, Phone 2: string, Email: string, Website: string]"
      ]
     },
     "execution_count": 74,
     "metadata": {},
     "output_type": "execute_result"
    }
   ],
   "source": [
    "df_spark_inferSchema2.describe()"
   ]
  },
  {
   "cell_type": "code",
   "execution_count": 75,
   "id": "02c902ba-e460-43f5-9578-bdd4323f077c",
   "metadata": {},
   "outputs": [
    {
     "name": "stdout",
     "output_type": "stream",
     "text": [
      "+-------+------------------+---------------+----------+---------+--------------------+-------------+--------+--------------------+-------------------+--------------------+--------------------+\n",
      "|summary|             Index|    Customer Id|First Name|Last Name|             Company|         City| Country|             Phone 1|            Phone 2|               Email|             Website|\n",
      "+-------+------------------+---------------+----------+---------+--------------------+-------------+--------+--------------------+-------------------+--------------------+--------------------+\n",
      "|  count|               100|            100|       100|      100|                 100|          100|     100|                 100|                100|                 100|                 100|\n",
      "|   mean|              50.5|           NULL|      NULL|     NULL|                NULL|         NULL|    NULL|      5.1711689515E9|    6.22990414175E9|                NULL|                NULL|\n",
      "| stddev|29.011491975882016|           NULL|      NULL|     NULL|                NULL|         NULL|    NULL|2.0834518419015326E9|3.236655563744217E9|                NULL|                NULL|\n",
      "|    min|                 1|010468dAA11382c|     Aimee| Alvarado|Acosta, Petersen ...| Acevedoville| Albania|       (041)737-3846| (026)401-7353x2417|aharper@maddox-to...|  http://acosta.org/|\n",
      "|    max|               100|faCEF517ae7D8eB|    Yvonne|   Zuniga|     Winters-Mendoza|Zimmermanland|Zimbabwe|        981-544-9452|       999-728-1637|zvalencia@phelps.com|https://www.vang....|\n",
      "+-------+------------------+---------------+----------+---------+--------------------+-------------+--------+--------------------+-------------------+--------------------+--------------------+\n",
      "\n"
     ]
    }
   ],
   "source": [
    "df_spark_inferSchema2.describe().show()"
   ]
  },
  {
   "cell_type": "code",
   "execution_count": 77,
   "id": "9ae96414-9f1e-4127-acae-628d58a90486",
   "metadata": {},
   "outputs": [],
   "source": [
    "### adding column\n",
    "df_addColumn=df_spark_inferSchema2.withColumn('ID2', df_spark_inferSchema2['Index']+ 2)\n"
   ]
  },
  {
   "cell_type": "code",
   "execution_count": 78,
   "id": "d059e6e2-23bb-4a1e-872f-c90f2b45bf9b",
   "metadata": {},
   "outputs": [
    {
     "name": "stdout",
     "output_type": "stream",
     "text": [
      "+-----+---------------+----------+---------+--------------------+-----------------+--------------------+--------------------+--------------------+--------------------+-----------------+--------------------+---+\n",
      "|Index|    Customer Id|First Name|Last Name|             Company|             City|             Country|             Phone 1|             Phone 2|               Email|Subscription Date|             Website|ID2|\n",
      "+-----+---------------+----------+---------+--------------------+-----------------+--------------------+--------------------+--------------------+--------------------+-----------------+--------------------+---+\n",
      "|    1|DD37Cf93aecA6Dc|    Sheryl|   Baxter|     Rasmussen Group|     East Leonard|               Chile|        229.077.5154|    397.884.0519x718|zunigavanessa@smi...|       2020-08-24|http://www.stephe...|  3|\n",
      "|    2|1Ef7b82A4CAAD10|   Preston|   Lozano|         Vega-Gentry|East Jimmychester|            Djibouti|          5153435776|    686-620-1820x944|     vmata@colon.com|       2021-04-23|http://www.hobbs....|  4|\n",
      "|    3|6F94879bDAfE5a6|       Roy|    Berry|       Murillo-Perry|    Isabelborough| Antigua and Barbuda|     +1-539-402-0259| (496)978-3969x58947| beckycarr@hogan.com|       2020-03-25|http://www.lawren...|  5|\n",
      "|    4|5Cef8BFA16c5e3c|     Linda|    Olsen|Dominguez, Mcmill...|       Bensonview|  Dominican Republic|001-808-617-6467x...|     +1-813-324-8756|stanleyblackwell@...|       2020-06-02|http://www.good-l...|  6|\n",
      "|    5|053d585Ab6b3159|    Joanna|   Bender|Martin, Lang and ...|   West Priscilla|Slovakia (Slovak ...|001-234-203-0635x...|001-199-446-3860x...|colinalvarado@mil...|       2021-04-17|https://goodwin-i...|  7|\n",
      "|    6|2d08FB17EE273F4|     Aimee|    Downs|        Steele Group|    Chavezborough|Bosnia and Herzeg...| (283)437-3886x88321|        999-728-1637| louis27@gilbert.com|       2020-02-25|http://www.berger...|  8|\n",
      "|    7|EA4d384DfDbBf77|    Darren|     Peck|Lester, Woodard a...|         Lake Ana|    Pitcairn Islands|  (496)452-6181x3291|+1-247-266-0963x4995| tgates@cantrell.com|       2021-08-24| https://www.le.com/|  9|\n",
      "|    8|0e04AFde9f225dE|     Brett|   Mullen|Sanford, Davenpor...|          Kimport|            Bulgaria|001-583-352-7197x297|    001-333-145-0369|     asnow@colon.com|       2021-04-12|https://hammond-r...| 10|\n",
      "|    9|C2dE4dEEc489ae0|    Sheryl|   Meyers|      Browning-Simon|     Robersonstad|              Cyprus|   854-138-4911x5772| +1-448-910-2276x729|mariokhan@ryan-po...|       2020-01-13|https://www.bullo...| 11|\n",
      "|   10|8C2811a503C7c5a|  Michelle|Gallagher|        Beck-Hendrix|       Elaineberg|         Timor-Leste|    739.218.2516x459|001-054-401-0347x617|   mdyer@escobar.net|       2021-11-08|  https://arias.com/| 12|\n",
      "|   11|216E205d6eBb815|      Carl|Schroeder|Oconnell, Meza an...|     Shannonville|            Guernsey|    637-854-0256x825|    114.336.0784x788|  kirksalas@webb.com|       2021-10-20|https://simmons-h...| 13|\n",
      "|   12|CEDec94deE6d69B|     Jenna|   Dodson|Hoffman, Reed and...|      East Andrea|             Vietnam|       (041)737-3846|+1-556-888-3485x4...|  mark42@robbins.com|       2020-11-29|http://www.dougla...| 14|\n",
      "|   13|e35426EbDEceaFF|    Tracey|     Mata|      Graham-Francis|South Joannamouth|                Togo|    001-949-844-8787|       (855)713-8773|    alex56@walls.org|       2021-12-02|http://www.beck.com/| 15|\n",
      "|   14|A08A8aF8BE9FaD4|  Kristine|      Cox|      Carpenter-Cook|         Jodyberg|           Sri Lanka|  786-284-3358x62152|+1-315-627-1796x8074|holdenmiranda@cla...|       2021-02-08|https://www.brand...| 16|\n",
      "|   15|6fEaA1b7cab7B6C|     Faith|     Lutz|      Carter-Hancock|        Burchbury|           Singapore|  (781)861-7180x8306|        207-185-3665|cassieparrish@ble...|       2022-01-26|http://stevenson....| 17|\n",
      "|   16|8cad0b4CBceaeec|   Miranda|  Beasley|  Singleton and Sons|     Desireeshire|                Oman|    540.085.3135x185|+1-600-462-6432x2...|vduncan@parks-har...|       2022-04-12|  http://acosta.org/| 18|\n",
      "|   17|a5DC21AE3a21eaA|  Caroline|    Foley|     Winters-Mendoza|West Adriennestad|      Western Sahara|   936.222.4746x9924|001-469-948-6341x359|holtgwendolyn@wat...|       2021-03-10|http://www.benson...| 19|\n",
      "|   18|F8Aa9d6DfcBeeF8|      Greg|     Mata|       Valentine LLC|      Lake Leslie|          Mozambique|       (701)087-2415| (195)156-1861x26241|jaredjuarez@carro...|       2022-03-26|http://pitts-cher...| 20|\n",
      "|   19|F160f5Db3EfE973|  Clifford| Jacobson|           Simon LLC|       Harmonview|South Georgia and...|001-151-330-3524x...|       (748)477-7174|joseph26@jacobson...|       2020-09-24|https://mcconnell...| 21|\n",
      "|   20|0F60FF3DdCd7aB0|    Joanna|     Kirk|      Mays-Mccormick|       Jamesshire|    French Polynesia|   (266)131-7001x711| (283)312-5579x11543|tuckerangie@salaz...|       2021-09-24|https://www.camac...| 22|\n",
      "+-----+---------------+----------+---------+--------------------+-----------------+--------------------+--------------------+--------------------+--------------------+-----------------+--------------------+---+\n",
      "only showing top 20 rows\n",
      "\n"
     ]
    }
   ],
   "source": [
    "df_addColumn.show()"
   ]
  },
  {
   "cell_type": "code",
   "execution_count": 79,
   "id": "151f4ffb-eecd-4876-bd46-12da19fbcd18",
   "metadata": {},
   "outputs": [
    {
     "data": {
      "text/plain": [
       "DataFrame[Index: int, Customer Id: string, First Name: string, Last Name: string, Company: string, City: string, Country: string, Phone 1: string, Phone 2: string, Email: string, Subscription Date: date, Website: string]"
      ]
     },
     "execution_count": 79,
     "metadata": {},
     "output_type": "execute_result"
    }
   ],
   "source": [
    "df_addColumn.drop('ID2')"
   ]
  },
  {
   "cell_type": "code",
   "execution_count": 80,
   "id": "644ea104-2c96-4b11-9c86-7661b4af1c33",
   "metadata": {},
   "outputs": [
    {
     "name": "stdout",
     "output_type": "stream",
     "text": [
      "+-----+---------------+----------+---------+--------------------+-----------------+--------------------+--------------------+--------------------+--------------------+-----------------+--------------------+---+\n",
      "|Index|    Customer Id|First Name|Last Name|             Company|             City|             Country|             Phone 1|             Phone 2|               Email|Subscription Date|             Website|ID2|\n",
      "+-----+---------------+----------+---------+--------------------+-----------------+--------------------+--------------------+--------------------+--------------------+-----------------+--------------------+---+\n",
      "|    1|DD37Cf93aecA6Dc|    Sheryl|   Baxter|     Rasmussen Group|     East Leonard|               Chile|        229.077.5154|    397.884.0519x718|zunigavanessa@smi...|       2020-08-24|http://www.stephe...|  3|\n",
      "|    2|1Ef7b82A4CAAD10|   Preston|   Lozano|         Vega-Gentry|East Jimmychester|            Djibouti|          5153435776|    686-620-1820x944|     vmata@colon.com|       2021-04-23|http://www.hobbs....|  4|\n",
      "|    3|6F94879bDAfE5a6|       Roy|    Berry|       Murillo-Perry|    Isabelborough| Antigua and Barbuda|     +1-539-402-0259| (496)978-3969x58947| beckycarr@hogan.com|       2020-03-25|http://www.lawren...|  5|\n",
      "|    4|5Cef8BFA16c5e3c|     Linda|    Olsen|Dominguez, Mcmill...|       Bensonview|  Dominican Republic|001-808-617-6467x...|     +1-813-324-8756|stanleyblackwell@...|       2020-06-02|http://www.good-l...|  6|\n",
      "|    5|053d585Ab6b3159|    Joanna|   Bender|Martin, Lang and ...|   West Priscilla|Slovakia (Slovak ...|001-234-203-0635x...|001-199-446-3860x...|colinalvarado@mil...|       2021-04-17|https://goodwin-i...|  7|\n",
      "|    6|2d08FB17EE273F4|     Aimee|    Downs|        Steele Group|    Chavezborough|Bosnia and Herzeg...| (283)437-3886x88321|        999-728-1637| louis27@gilbert.com|       2020-02-25|http://www.berger...|  8|\n",
      "|    7|EA4d384DfDbBf77|    Darren|     Peck|Lester, Woodard a...|         Lake Ana|    Pitcairn Islands|  (496)452-6181x3291|+1-247-266-0963x4995| tgates@cantrell.com|       2021-08-24| https://www.le.com/|  9|\n",
      "|    8|0e04AFde9f225dE|     Brett|   Mullen|Sanford, Davenpor...|          Kimport|            Bulgaria|001-583-352-7197x297|    001-333-145-0369|     asnow@colon.com|       2021-04-12|https://hammond-r...| 10|\n",
      "|    9|C2dE4dEEc489ae0|    Sheryl|   Meyers|      Browning-Simon|     Robersonstad|              Cyprus|   854-138-4911x5772| +1-448-910-2276x729|mariokhan@ryan-po...|       2020-01-13|https://www.bullo...| 11|\n",
      "|   10|8C2811a503C7c5a|  Michelle|Gallagher|        Beck-Hendrix|       Elaineberg|         Timor-Leste|    739.218.2516x459|001-054-401-0347x617|   mdyer@escobar.net|       2021-11-08|  https://arias.com/| 12|\n",
      "|   11|216E205d6eBb815|      Carl|Schroeder|Oconnell, Meza an...|     Shannonville|            Guernsey|    637-854-0256x825|    114.336.0784x788|  kirksalas@webb.com|       2021-10-20|https://simmons-h...| 13|\n",
      "|   12|CEDec94deE6d69B|     Jenna|   Dodson|Hoffman, Reed and...|      East Andrea|             Vietnam|       (041)737-3846|+1-556-888-3485x4...|  mark42@robbins.com|       2020-11-29|http://www.dougla...| 14|\n",
      "|   13|e35426EbDEceaFF|    Tracey|     Mata|      Graham-Francis|South Joannamouth|                Togo|    001-949-844-8787|       (855)713-8773|    alex56@walls.org|       2021-12-02|http://www.beck.com/| 15|\n",
      "|   14|A08A8aF8BE9FaD4|  Kristine|      Cox|      Carpenter-Cook|         Jodyberg|           Sri Lanka|  786-284-3358x62152|+1-315-627-1796x8074|holdenmiranda@cla...|       2021-02-08|https://www.brand...| 16|\n",
      "|   15|6fEaA1b7cab7B6C|     Faith|     Lutz|      Carter-Hancock|        Burchbury|           Singapore|  (781)861-7180x8306|        207-185-3665|cassieparrish@ble...|       2022-01-26|http://stevenson....| 17|\n",
      "|   16|8cad0b4CBceaeec|   Miranda|  Beasley|  Singleton and Sons|     Desireeshire|                Oman|    540.085.3135x185|+1-600-462-6432x2...|vduncan@parks-har...|       2022-04-12|  http://acosta.org/| 18|\n",
      "|   17|a5DC21AE3a21eaA|  Caroline|    Foley|     Winters-Mendoza|West Adriennestad|      Western Sahara|   936.222.4746x9924|001-469-948-6341x359|holtgwendolyn@wat...|       2021-03-10|http://www.benson...| 19|\n",
      "|   18|F8Aa9d6DfcBeeF8|      Greg|     Mata|       Valentine LLC|      Lake Leslie|          Mozambique|       (701)087-2415| (195)156-1861x26241|jaredjuarez@carro...|       2022-03-26|http://pitts-cher...| 20|\n",
      "|   19|F160f5Db3EfE973|  Clifford| Jacobson|           Simon LLC|       Harmonview|South Georgia and...|001-151-330-3524x...|       (748)477-7174|joseph26@jacobson...|       2020-09-24|https://mcconnell...| 21|\n",
      "|   20|0F60FF3DdCd7aB0|    Joanna|     Kirk|      Mays-Mccormick|       Jamesshire|    French Polynesia|   (266)131-7001x711| (283)312-5579x11543|tuckerangie@salaz...|       2021-09-24|https://www.camac...| 22|\n",
      "+-----+---------------+----------+---------+--------------------+-----------------+--------------------+--------------------+--------------------+--------------------+-----------------+--------------------+---+\n",
      "only showing top 20 rows\n",
      "\n"
     ]
    }
   ],
   "source": [
    "df_addColumn.show()"
   ]
  },
  {
   "cell_type": "code",
   "execution_count": 81,
   "id": "1b9ad01f-5b16-4299-ba45-a6d17d10215f",
   "metadata": {},
   "outputs": [],
   "source": [
    "df_drop_column=df_addColumn.drop('ID2')"
   ]
  },
  {
   "cell_type": "code",
   "execution_count": 82,
   "id": "271e1097-8ebd-4388-8338-889890bc3181",
   "metadata": {},
   "outputs": [
    {
     "name": "stdout",
     "output_type": "stream",
     "text": [
      "+-----+---------------+----------+---------+--------------------+-----------------+--------------------+--------------------+--------------------+--------------------+-----------------+--------------------+\n",
      "|Index|    Customer Id|First Name|Last Name|             Company|             City|             Country|             Phone 1|             Phone 2|               Email|Subscription Date|             Website|\n",
      "+-----+---------------+----------+---------+--------------------+-----------------+--------------------+--------------------+--------------------+--------------------+-----------------+--------------------+\n",
      "|    1|DD37Cf93aecA6Dc|    Sheryl|   Baxter|     Rasmussen Group|     East Leonard|               Chile|        229.077.5154|    397.884.0519x718|zunigavanessa@smi...|       2020-08-24|http://www.stephe...|\n",
      "|    2|1Ef7b82A4CAAD10|   Preston|   Lozano|         Vega-Gentry|East Jimmychester|            Djibouti|          5153435776|    686-620-1820x944|     vmata@colon.com|       2021-04-23|http://www.hobbs....|\n",
      "|    3|6F94879bDAfE5a6|       Roy|    Berry|       Murillo-Perry|    Isabelborough| Antigua and Barbuda|     +1-539-402-0259| (496)978-3969x58947| beckycarr@hogan.com|       2020-03-25|http://www.lawren...|\n",
      "|    4|5Cef8BFA16c5e3c|     Linda|    Olsen|Dominguez, Mcmill...|       Bensonview|  Dominican Republic|001-808-617-6467x...|     +1-813-324-8756|stanleyblackwell@...|       2020-06-02|http://www.good-l...|\n",
      "|    5|053d585Ab6b3159|    Joanna|   Bender|Martin, Lang and ...|   West Priscilla|Slovakia (Slovak ...|001-234-203-0635x...|001-199-446-3860x...|colinalvarado@mil...|       2021-04-17|https://goodwin-i...|\n",
      "|    6|2d08FB17EE273F4|     Aimee|    Downs|        Steele Group|    Chavezborough|Bosnia and Herzeg...| (283)437-3886x88321|        999-728-1637| louis27@gilbert.com|       2020-02-25|http://www.berger...|\n",
      "|    7|EA4d384DfDbBf77|    Darren|     Peck|Lester, Woodard a...|         Lake Ana|    Pitcairn Islands|  (496)452-6181x3291|+1-247-266-0963x4995| tgates@cantrell.com|       2021-08-24| https://www.le.com/|\n",
      "|    8|0e04AFde9f225dE|     Brett|   Mullen|Sanford, Davenpor...|          Kimport|            Bulgaria|001-583-352-7197x297|    001-333-145-0369|     asnow@colon.com|       2021-04-12|https://hammond-r...|\n",
      "|    9|C2dE4dEEc489ae0|    Sheryl|   Meyers|      Browning-Simon|     Robersonstad|              Cyprus|   854-138-4911x5772| +1-448-910-2276x729|mariokhan@ryan-po...|       2020-01-13|https://www.bullo...|\n",
      "|   10|8C2811a503C7c5a|  Michelle|Gallagher|        Beck-Hendrix|       Elaineberg|         Timor-Leste|    739.218.2516x459|001-054-401-0347x617|   mdyer@escobar.net|       2021-11-08|  https://arias.com/|\n",
      "|   11|216E205d6eBb815|      Carl|Schroeder|Oconnell, Meza an...|     Shannonville|            Guernsey|    637-854-0256x825|    114.336.0784x788|  kirksalas@webb.com|       2021-10-20|https://simmons-h...|\n",
      "|   12|CEDec94deE6d69B|     Jenna|   Dodson|Hoffman, Reed and...|      East Andrea|             Vietnam|       (041)737-3846|+1-556-888-3485x4...|  mark42@robbins.com|       2020-11-29|http://www.dougla...|\n",
      "|   13|e35426EbDEceaFF|    Tracey|     Mata|      Graham-Francis|South Joannamouth|                Togo|    001-949-844-8787|       (855)713-8773|    alex56@walls.org|       2021-12-02|http://www.beck.com/|\n",
      "|   14|A08A8aF8BE9FaD4|  Kristine|      Cox|      Carpenter-Cook|         Jodyberg|           Sri Lanka|  786-284-3358x62152|+1-315-627-1796x8074|holdenmiranda@cla...|       2021-02-08|https://www.brand...|\n",
      "|   15|6fEaA1b7cab7B6C|     Faith|     Lutz|      Carter-Hancock|        Burchbury|           Singapore|  (781)861-7180x8306|        207-185-3665|cassieparrish@ble...|       2022-01-26|http://stevenson....|\n",
      "|   16|8cad0b4CBceaeec|   Miranda|  Beasley|  Singleton and Sons|     Desireeshire|                Oman|    540.085.3135x185|+1-600-462-6432x2...|vduncan@parks-har...|       2022-04-12|  http://acosta.org/|\n",
      "|   17|a5DC21AE3a21eaA|  Caroline|    Foley|     Winters-Mendoza|West Adriennestad|      Western Sahara|   936.222.4746x9924|001-469-948-6341x359|holtgwendolyn@wat...|       2021-03-10|http://www.benson...|\n",
      "|   18|F8Aa9d6DfcBeeF8|      Greg|     Mata|       Valentine LLC|      Lake Leslie|          Mozambique|       (701)087-2415| (195)156-1861x26241|jaredjuarez@carro...|       2022-03-26|http://pitts-cher...|\n",
      "|   19|F160f5Db3EfE973|  Clifford| Jacobson|           Simon LLC|       Harmonview|South Georgia and...|001-151-330-3524x...|       (748)477-7174|joseph26@jacobson...|       2020-09-24|https://mcconnell...|\n",
      "|   20|0F60FF3DdCd7aB0|    Joanna|     Kirk|      Mays-Mccormick|       Jamesshire|    French Polynesia|   (266)131-7001x711| (283)312-5579x11543|tuckerangie@salaz...|       2021-09-24|https://www.camac...|\n",
      "+-----+---------------+----------+---------+--------------------+-----------------+--------------------+--------------------+--------------------+--------------------+-----------------+--------------------+\n",
      "only showing top 20 rows\n",
      "\n"
     ]
    }
   ],
   "source": [
    "df_drop_column.show()"
   ]
  },
  {
   "cell_type": "code",
   "execution_count": 83,
   "id": "d9a5fe51-2ecf-468c-9a59-b72f96c3b6f8",
   "metadata": {},
   "outputs": [],
   "source": [
    "df_renamed_column=df_addColumn.withColumnRenamed('ID2','New ID')"
   ]
  },
  {
   "cell_type": "code",
   "execution_count": 84,
   "id": "9e442a2a-b8f7-4d1b-b529-bf11fca3bd07",
   "metadata": {},
   "outputs": [
    {
     "name": "stdout",
     "output_type": "stream",
     "text": [
      "+-----+---------------+----------+---------+--------------------+-----------------+--------------------+--------------------+--------------------+--------------------+-----------------+--------------------+------+\n",
      "|Index|    Customer Id|First Name|Last Name|             Company|             City|             Country|             Phone 1|             Phone 2|               Email|Subscription Date|             Website|New ID|\n",
      "+-----+---------------+----------+---------+--------------------+-----------------+--------------------+--------------------+--------------------+--------------------+-----------------+--------------------+------+\n",
      "|    1|DD37Cf93aecA6Dc|    Sheryl|   Baxter|     Rasmussen Group|     East Leonard|               Chile|        229.077.5154|    397.884.0519x718|zunigavanessa@smi...|       2020-08-24|http://www.stephe...|     3|\n",
      "|    2|1Ef7b82A4CAAD10|   Preston|   Lozano|         Vega-Gentry|East Jimmychester|            Djibouti|          5153435776|    686-620-1820x944|     vmata@colon.com|       2021-04-23|http://www.hobbs....|     4|\n",
      "|    3|6F94879bDAfE5a6|       Roy|    Berry|       Murillo-Perry|    Isabelborough| Antigua and Barbuda|     +1-539-402-0259| (496)978-3969x58947| beckycarr@hogan.com|       2020-03-25|http://www.lawren...|     5|\n",
      "|    4|5Cef8BFA16c5e3c|     Linda|    Olsen|Dominguez, Mcmill...|       Bensonview|  Dominican Republic|001-808-617-6467x...|     +1-813-324-8756|stanleyblackwell@...|       2020-06-02|http://www.good-l...|     6|\n",
      "|    5|053d585Ab6b3159|    Joanna|   Bender|Martin, Lang and ...|   West Priscilla|Slovakia (Slovak ...|001-234-203-0635x...|001-199-446-3860x...|colinalvarado@mil...|       2021-04-17|https://goodwin-i...|     7|\n",
      "|    6|2d08FB17EE273F4|     Aimee|    Downs|        Steele Group|    Chavezborough|Bosnia and Herzeg...| (283)437-3886x88321|        999-728-1637| louis27@gilbert.com|       2020-02-25|http://www.berger...|     8|\n",
      "|    7|EA4d384DfDbBf77|    Darren|     Peck|Lester, Woodard a...|         Lake Ana|    Pitcairn Islands|  (496)452-6181x3291|+1-247-266-0963x4995| tgates@cantrell.com|       2021-08-24| https://www.le.com/|     9|\n",
      "|    8|0e04AFde9f225dE|     Brett|   Mullen|Sanford, Davenpor...|          Kimport|            Bulgaria|001-583-352-7197x297|    001-333-145-0369|     asnow@colon.com|       2021-04-12|https://hammond-r...|    10|\n",
      "|    9|C2dE4dEEc489ae0|    Sheryl|   Meyers|      Browning-Simon|     Robersonstad|              Cyprus|   854-138-4911x5772| +1-448-910-2276x729|mariokhan@ryan-po...|       2020-01-13|https://www.bullo...|    11|\n",
      "|   10|8C2811a503C7c5a|  Michelle|Gallagher|        Beck-Hendrix|       Elaineberg|         Timor-Leste|    739.218.2516x459|001-054-401-0347x617|   mdyer@escobar.net|       2021-11-08|  https://arias.com/|    12|\n",
      "|   11|216E205d6eBb815|      Carl|Schroeder|Oconnell, Meza an...|     Shannonville|            Guernsey|    637-854-0256x825|    114.336.0784x788|  kirksalas@webb.com|       2021-10-20|https://simmons-h...|    13|\n",
      "|   12|CEDec94deE6d69B|     Jenna|   Dodson|Hoffman, Reed and...|      East Andrea|             Vietnam|       (041)737-3846|+1-556-888-3485x4...|  mark42@robbins.com|       2020-11-29|http://www.dougla...|    14|\n",
      "|   13|e35426EbDEceaFF|    Tracey|     Mata|      Graham-Francis|South Joannamouth|                Togo|    001-949-844-8787|       (855)713-8773|    alex56@walls.org|       2021-12-02|http://www.beck.com/|    15|\n",
      "|   14|A08A8aF8BE9FaD4|  Kristine|      Cox|      Carpenter-Cook|         Jodyberg|           Sri Lanka|  786-284-3358x62152|+1-315-627-1796x8074|holdenmiranda@cla...|       2021-02-08|https://www.brand...|    16|\n",
      "|   15|6fEaA1b7cab7B6C|     Faith|     Lutz|      Carter-Hancock|        Burchbury|           Singapore|  (781)861-7180x8306|        207-185-3665|cassieparrish@ble...|       2022-01-26|http://stevenson....|    17|\n",
      "|   16|8cad0b4CBceaeec|   Miranda|  Beasley|  Singleton and Sons|     Desireeshire|                Oman|    540.085.3135x185|+1-600-462-6432x2...|vduncan@parks-har...|       2022-04-12|  http://acosta.org/|    18|\n",
      "|   17|a5DC21AE3a21eaA|  Caroline|    Foley|     Winters-Mendoza|West Adriennestad|      Western Sahara|   936.222.4746x9924|001-469-948-6341x359|holtgwendolyn@wat...|       2021-03-10|http://www.benson...|    19|\n",
      "|   18|F8Aa9d6DfcBeeF8|      Greg|     Mata|       Valentine LLC|      Lake Leslie|          Mozambique|       (701)087-2415| (195)156-1861x26241|jaredjuarez@carro...|       2022-03-26|http://pitts-cher...|    20|\n",
      "|   19|F160f5Db3EfE973|  Clifford| Jacobson|           Simon LLC|       Harmonview|South Georgia and...|001-151-330-3524x...|       (748)477-7174|joseph26@jacobson...|       2020-09-24|https://mcconnell...|    21|\n",
      "|   20|0F60FF3DdCd7aB0|    Joanna|     Kirk|      Mays-Mccormick|       Jamesshire|    French Polynesia|   (266)131-7001x711| (283)312-5579x11543|tuckerangie@salaz...|       2021-09-24|https://www.camac...|    22|\n",
      "+-----+---------------+----------+---------+--------------------+-----------------+--------------------+--------------------+--------------------+--------------------+-----------------+--------------------+------+\n",
      "only showing top 20 rows\n",
      "\n"
     ]
    }
   ],
   "source": [
    "df_renamed_column.show()"
   ]
  },
  {
   "cell_type": "markdown",
   "id": "2e547a3a-2d4b-445c-9ec1-ad9ab7944772",
   "metadata": {},
   "source": [
    "## Handling Missing Values"
   ]
  },
  {
   "cell_type": "code",
   "execution_count": 89,
   "id": "3fcdfeb2-b19e-47c9-868b-5b3231d474bf",
   "metadata": {},
   "outputs": [],
   "source": [
    "null_df=spark.read.csv('customers-100-na.csv', header='true', inferSchema='true')"
   ]
  },
  {
   "cell_type": "code",
   "execution_count": 90,
   "id": "8606abd6-f837-492e-8d9f-698a0d4e0fc5",
   "metadata": {},
   "outputs": [
    {
     "name": "stdout",
     "output_type": "stream",
     "text": [
      "+-------+------------------+---------------+----------+---------+--------------------+------------+--------+-------------------+-------------------+--------------------+--------------------+\n",
      "|summary|             Index|    Customer Id|First Name|Last Name|             Company|        City| Country|            Phone 1|            Phone 2|               Email|             Website|\n",
      "+-------+------------------+---------------+----------+---------+--------------------+------------+--------+-------------------+-------------------+--------------------+--------------------+\n",
      "|  count|               100|            100|        99|       98|                  99|          99|     100|                100|                 99|                 100|                  99|\n",
      "|   mean|              50.5|           NULL|      NULL|     NULL|                NULL|        NULL|    NULL|3.977821758076923E9|      4.153267376E9|                NULL|                NULL|\n",
      "| stddev|29.011491975882016|           NULL|      NULL|     NULL|                NULL|        NULL|    NULL|2.897944246069217E9|4.078648325054578E9|                NULL|                NULL|\n",
      "|    min|                 1|010468dAA11382c|     Aimee| Alvarado|Acosta, Petersen ...|Acevedoville| Albania|      (041)737-3846| (026)401-7353x2417|aharper@maddox-to...|  http://acosta.org/|\n",
      "|    max|               100|faCEF517ae7D8eB|    Yvonne|   Zuniga|     Winters-Mendoza| West Samuel|Zimbabwe|       981-544-9452|       999-728-1637|zvalencia@phelps.com|https://www.vang....|\n",
      "+-------+------------------+---------------+----------+---------+--------------------+------------+--------+-------------------+-------------------+--------------------+--------------------+\n",
      "\n"
     ]
    }
   ],
   "source": [
    "null_df.describe().show()"
   ]
  },
  {
   "cell_type": "code",
   "execution_count": 91,
   "id": "1b52b5e9-d032-41f7-8ff0-c0db646df006",
   "metadata": {},
   "outputs": [
    {
     "name": "stdout",
     "output_type": "stream",
     "text": [
      "+-------+------------------+---------------+----------+---------+--------------------+-----------+--------+--------------------+-------------------+--------------------+--------------------+\n",
      "|summary|             Index|    Customer Id|First Name|Last Name|             Company|       City| Country|             Phone 1|            Phone 2|               Email|             Website|\n",
      "+-------+------------------+---------------+----------+---------+--------------------+-----------+--------+--------------------+-------------------+--------------------+--------------------+\n",
      "|  count|                92|             92|        92|       92|                  92|         92|      92|                  92|                 92|                  92|                  92|\n",
      "|   mean| 52.18478260869565|           NULL|      NULL|     NULL|                NULL|       NULL|    NULL|3.7840032974166665E9|      4.153267376E9|                NULL|                NULL|\n",
      "| stddev|29.438678805991465|           NULL|      NULL|     NULL|                NULL|       NULL|    NULL| 2.937480944802339E9|4.078648325054578E9|                NULL|                NULL|\n",
      "|    min|                 1|010468dAA11382c|     Aimee| Alvarado|Acosta, Petersen ...| Bensonview| Algeria|       (050)136-9025| (026)401-7353x2417|aharper@maddox-to...|http://burgess-fr...|\n",
      "|    max|               100|faCEF517ae7D8eB|    Yvonne|   Zuniga|     Winters-Mendoza|West Samuel|Zimbabwe|        981-544-9452|       999-728-1637|zvalencia@phelps.com|https://www.vang....|\n",
      "+-------+------------------+---------------+----------+---------+--------------------+-----------+--------+--------------------+-------------------+--------------------+--------------------+\n",
      "\n"
     ]
    }
   ],
   "source": [
    "null_df.na.drop().describe().show()"
   ]
  },
  {
   "cell_type": "code",
   "execution_count": 94,
   "id": "ad565fbf-c1f0-44da-9dc1-9d80671950b4",
   "metadata": {},
   "outputs": [
    {
     "name": "stdout",
     "output_type": "stream",
     "text": [
      "+-------+------------------+---------------+----------+---------+--------------------+------------+--------+-------------------+-------------------+--------------------+--------------------+\n",
      "|summary|             Index|    Customer Id|First Name|Last Name|             Company|        City| Country|            Phone 1|            Phone 2|               Email|             Website|\n",
      "+-------+------------------+---------------+----------+---------+--------------------+------------+--------+-------------------+-------------------+--------------------+--------------------+\n",
      "|  count|               100|            100|        99|       98|                  99|          99|     100|                100|                 99|                 100|                  99|\n",
      "|   mean|              50.5|           NULL|      NULL|     NULL|                NULL|        NULL|    NULL|3.977821758076923E9|      4.153267376E9|                NULL|                NULL|\n",
      "| stddev|29.011491975882016|           NULL|      NULL|     NULL|                NULL|        NULL|    NULL|2.897944246069217E9|4.078648325054578E9|                NULL|                NULL|\n",
      "|    min|                 1|010468dAA11382c|     Aimee| Alvarado|Acosta, Petersen ...|Acevedoville| Albania|      (041)737-3846| (026)401-7353x2417|aharper@maddox-to...|  http://acosta.org/|\n",
      "|    max|               100|faCEF517ae7D8eB|    Yvonne|   Zuniga|     Winters-Mendoza| West Samuel|Zimbabwe|       981-544-9452|       999-728-1637|zvalencia@phelps.com|https://www.vang....|\n",
      "+-------+------------------+---------------+----------+---------+--------------------+------------+--------+-------------------+-------------------+--------------------+--------------------+\n",
      "\n"
     ]
    }
   ],
   "source": [
    "null_df.na.drop(how='all').describe().show()"
   ]
  },
  {
   "cell_type": "code",
   "execution_count": 95,
   "id": "5e560a1f-894a-445d-b798-1d10258ff311",
   "metadata": {},
   "outputs": [
    {
     "name": "stdout",
     "output_type": "stream",
     "text": [
      "+-------+------------------+---------------+----------+---------+--------------------+-----------+--------+--------------------+-------------------+--------------------+--------------------+\n",
      "|summary|             Index|    Customer Id|First Name|Last Name|             Company|       City| Country|             Phone 1|            Phone 2|               Email|             Website|\n",
      "+-------+------------------+---------------+----------+---------+--------------------+-----------+--------+--------------------+-------------------+--------------------+--------------------+\n",
      "|  count|                92|             92|        92|       92|                  92|         92|      92|                  92|                 92|                  92|                  92|\n",
      "|   mean| 52.18478260869565|           NULL|      NULL|     NULL|                NULL|       NULL|    NULL|3.7840032974166665E9|      4.153267376E9|                NULL|                NULL|\n",
      "| stddev|29.438678805991465|           NULL|      NULL|     NULL|                NULL|       NULL|    NULL| 2.937480944802339E9|4.078648325054578E9|                NULL|                NULL|\n",
      "|    min|                 1|010468dAA11382c|     Aimee| Alvarado|Acosta, Petersen ...| Bensonview| Algeria|       (050)136-9025| (026)401-7353x2417|aharper@maddox-to...|http://burgess-fr...|\n",
      "|    max|               100|faCEF517ae7D8eB|    Yvonne|   Zuniga|     Winters-Mendoza|West Samuel|Zimbabwe|        981-544-9452|       999-728-1637|zvalencia@phelps.com|https://www.vang....|\n",
      "+-------+------------------+---------------+----------+---------+--------------------+-----------+--------+--------------------+-------------------+--------------------+--------------------+\n",
      "\n"
     ]
    }
   ],
   "source": [
    "null_df.na.drop(how='any').describe().show()"
   ]
  },
  {
   "cell_type": "code",
   "execution_count": 96,
   "id": "46c82f84-0132-4e09-a67e-8583d604f094",
   "metadata": {},
   "outputs": [
    {
     "name": "stdout",
     "output_type": "stream",
     "text": [
      "+-------+------------------+---------------+----------+---------+--------------------+------------+--------+-------------------+-------------------+--------------------+--------------------+\n",
      "|summary|             Index|    Customer Id|First Name|Last Name|             Company|        City| Country|            Phone 1|            Phone 2|               Email|             Website|\n",
      "+-------+------------------+---------------+----------+---------+--------------------+------------+--------+-------------------+-------------------+--------------------+--------------------+\n",
      "|  count|               100|            100|        99|       98|                  99|          99|     100|                100|                 99|                 100|                  99|\n",
      "|   mean|              50.5|           NULL|      NULL|     NULL|                NULL|        NULL|    NULL|3.977821758076923E9|      4.153267376E9|                NULL|                NULL|\n",
      "| stddev|29.011491975882016|           NULL|      NULL|     NULL|                NULL|        NULL|    NULL|2.897944246069217E9|4.078648325054578E9|                NULL|                NULL|\n",
      "|    min|                 1|010468dAA11382c|     Aimee| Alvarado|Acosta, Petersen ...|Acevedoville| Albania|      (041)737-3846| (026)401-7353x2417|aharper@maddox-to...|  http://acosta.org/|\n",
      "|    max|               100|faCEF517ae7D8eB|    Yvonne|   Zuniga|     Winters-Mendoza| West Samuel|Zimbabwe|       981-544-9452|       999-728-1637|zvalencia@phelps.com|https://www.vang....|\n",
      "+-------+------------------+---------------+----------+---------+--------------------+------------+--------+-------------------+-------------------+--------------------+--------------------+\n",
      "\n"
     ]
    }
   ],
   "source": [
    "null_df.na.drop(how='any',thresh=2).describe().show()"
   ]
  },
  {
   "cell_type": "code",
   "execution_count": 97,
   "id": "a20918cb-d653-44f5-a08e-acb263f5f579",
   "metadata": {},
   "outputs": [
    {
     "name": "stdout",
     "output_type": "stream",
     "text": [
      "+-------+------------------+---------------+----------+---------+--------------------+------------+--------+--------------------+-------------------+--------------------+--------------------+\n",
      "|summary|             Index|    Customer Id|First Name|Last Name|             Company|        City| Country|             Phone 1|            Phone 2|               Email|             Website|\n",
      "+-------+------------------+---------------+----------+---------+--------------------+------------+--------+--------------------+-------------------+--------------------+--------------------+\n",
      "|  count|                99|             99|        98|       97|                  98|          98|      99|                  99|                 99|                  99|                  98|\n",
      "|   mean|50.666666666666664|           NULL|      NULL|     NULL|                NULL|        NULL|    NULL|3.7840032974166665E9|      4.153267376E9|                NULL|                NULL|\n",
      "| stddev| 29.11097696044976|           NULL|      NULL|     NULL|                NULL|        NULL|    NULL| 2.937480944802339E9|4.078648325054578E9|                NULL|                NULL|\n",
      "|    min|                 1|010468dAA11382c|     Aimee| Alvarado|Acosta, Petersen ...|Acevedoville| Albania|       (041)737-3846| (026)401-7353x2417|aharper@maddox-to...|  http://acosta.org/|\n",
      "|    max|               100|faCEF517ae7D8eB|    Yvonne|   Zuniga|     Winters-Mendoza| West Samuel|Zimbabwe|        981-544-9452|       999-728-1637|zvalencia@phelps.com|https://www.vang....|\n",
      "+-------+------------------+---------------+----------+---------+--------------------+------------+--------+--------------------+-------------------+--------------------+--------------------+\n",
      "\n"
     ]
    }
   ],
   "source": [
    "null_df.na.drop(how='any',subset='Phone 2').describe().show()"
   ]
  },
  {
   "cell_type": "code",
   "execution_count": 99,
   "id": "2bcec9ff-f246-4447-9f18-17ab392ea576",
   "metadata": {},
   "outputs": [
    {
     "name": "stdout",
     "output_type": "stream",
     "text": [
      "+-----+---------------+----------+----------+--------------------+-------------------+--------------------+--------------------+--------------------+--------------------+-----------------+--------------------+\n",
      "|Index|    Customer Id|First Name| Last Name|             Company|               City|             Country|             Phone 1|             Phone 2|               Email|Subscription Date|             Website|\n",
      "+-----+---------------+----------+----------+--------------------+-------------------+--------------------+--------------------+--------------------+--------------------+-----------------+--------------------+\n",
      "|    1|DD37Cf93aecA6Dc|    Sheryl|    Baxter|     Rasmussen Group|       East Leonard|               Chile|        229.077.5154|    397.884.0519x718|zunigavanessa@smi...|       2020-08-24|http://www.stephe...|\n",
      "|    2|1Ef7b82A4CAAD10|   Preston|    Lozano|         Vega-Gentry|  East Jimmychester|            Djibouti|          5153435776|    686-620-1820x944|     vmata@colon.com|       2021-04-23|http://www.hobbs....|\n",
      "|    3|6F94879bDAfE5a6|       Roy|     Berry|       Murillo-Perry|      Isabelborough| Antigua and Barbuda|               -1199| (496)978-3969x58947| beckycarr@hogan.com|       2020-03-25|http://www.lawren...|\n",
      "|    4|5Cef8BFA16c5e3c|     Linda|     Olsen|Dominguez, Mcmill...|         Bensonview|  Dominican Republic|001-808-617-6467x...|               -9892|stanleyblackwell@...|       2020-06-02|http://www.good-l...|\n",
      "|    5|053d585Ab6b3159|    Joanna|    Bender|Martin, Lang and ...|     West Priscilla|Slovakia (Slovak ...|001-234-203-0635x...|001-199-446-3860x...|colinalvarado@mil...|       2021-04-17|https://goodwin-i...|\n",
      "|    6|2d08FB17EE273F4|     Aimee|     Downs|        Steele Group|      Chavezborough|Bosnia and Herzeg...| (283)437-3886x88321|        999-728-1637| louis27@gilbert.com|       2020-02-25|http://www.berger...|\n",
      "|    7|EA4d384DfDbBf77|    Darren|      Peck|Lester, Woodard a...|           Lake Ana|    Pitcairn Islands|  (496)452-6181x3291|+1-247-266-0963x4995| tgates@cantrell.com|       2021-08-24| https://www.le.com/|\n",
      "|    8|0e04AFde9f225dE|     Brett|    Mullen|Sanford, Davenpor...|            Kimport|            Bulgaria|001-583-352-7197x297|    001-333-145-0369|     asnow@colon.com|       2021-04-12|https://hammond-r...|\n",
      "|    9|C2dE4dEEc489ae0|    Sheryl|    Meyers|      Browning-Simon|       Robersonstad|              Cyprus|   854-138-4911x5772| +1-448-910-2276x729|mariokhan@ryan-po...|       2020-01-13|https://www.bullo...|\n",
      "|   10|8C2811a503C7c5a|  Michelle| Gallagher|        Beck-Hendrix|         Elaineberg|         Timor-Leste|    739.218.2516x459|001-054-401-0347x617|   mdyer@escobar.net|       2021-11-08|  https://arias.com/|\n",
      "|   11|216E205d6eBb815|      Carl| Schroeder|Oconnell, Meza an...|       Shannonville|            Guernsey|    637-854-0256x825|    114.336.0784x788|  kirksalas@webb.com|       2021-10-20|https://simmons-h...|\n",
      "|   12|CEDec94deE6d69B|     Jenna|    Dodson|Hoffman, Reed and...|        East Andrea|             Vietnam|       (041)737-3846|+1-556-888-3485x4...|  mark42@robbins.com|       2020-11-29|             Missing|\n",
      "|   13|e35426EbDEceaFF|    Tracey|      Mata|      Graham-Francis|  South Joannamouth|                Togo|    001-949-844-8787|       (855)713-8773|    alex56@walls.org|       2021-12-02|http://www.beck.com/|\n",
      "|   14|A08A8aF8BE9FaD4|  Kristine|       Cox|      Carpenter-Cook|           Jodyberg|           Sri Lanka|  786-284-3358x62152|+1-315-627-1796x8074|holdenmiranda@cla...|       2021-02-08|https://www.brand...|\n",
      "|   15|6fEaA1b7cab7B6C|     Faith|      Lutz|      Carter-Hancock|          Burchbury|           Singapore|  (781)861-7180x8306|        207-185-3665|cassieparrish@ble...|       2022-01-26|http://stevenson....|\n",
      "|   16|8cad0b4CBceaeec|   Miranda|   Beasley|             Missing|       Desireeshire|                Oman|    540.085.3135x185|+1-600-462-6432x2...|vduncan@parks-har...|       2022-04-12|  http://acosta.org/|\n",
      "|   17|a5DC21AE3a21eaA|  Caroline|     Foley|     Winters-Mendoza|  West Adriennestad|      Western Sahara|   936.222.4746x9924|001-469-948-6341x359|holtgwendolyn@wat...|       2021-03-10|http://www.benson...|\n",
      "|   18|F8Aa9d6DfcBeeF8|      Greg|      Mata|       Valentine LLC|        Lake Leslie|          Mozambique|       (701)087-2415| (195)156-1861x26241|jaredjuarez@carro...|       2022-03-26|http://pitts-cher...|\n",
      "|   19|F160f5Db3EfE973|  Clifford|  Jacobson|           Simon LLC|         Harmonview|South Georgia and...|001-151-330-3524x...|       (748)477-7174|joseph26@jacobson...|       2020-09-24|https://mcconnell...|\n",
      "|   20|0F60FF3DdCd7aB0|    Joanna|      Kirk|      Mays-Mccormick|         Jamesshire|    French Polynesia|   (266)131-7001x711| (283)312-5579x11543|tuckerangie@salaz...|       2021-09-24|https://www.camac...|\n",
      "|   21|9F9AdB7B8A6f7F2|   Maxwell|      Frye|       Patterson Inc|         East Carly|               Malta|        423.262.3059|   202-880-0688x7491|fgibson@drake-web...|       2022-01-12|http://www.robert...|\n",
      "|   22|FBd0Ded4F02a742|     Kiara|   Houston|Manning, Hester a...|        South Alvin|         Netherlands|001-274-040-3582x...|+1-528-175-0973x4684|blanchardbob@wall...|       2020-09-15|https://www.reid-...|\n",
      "|   23|2FB0FAA1d429421|   Colleen|    Howard|      Greer and Sons|       Brittanyview|            Paraguay|          1935085151|  (947)115-7711x5488|rsingleton@ryan-c...|       2020-08-19|    http://paul.biz/|\n",
      "|   24|010468dAA11382c|     Janet|Valenzuela|     Watts-Donaldson|      Veronicamouth|Lao People's Demo...|   354.259.5062x7538|        500.433.2022|stefanie71@spence...|       2020-09-08| https://moreno.biz/|\n",
      "|   25|eC1927Ca84E033e|     Shane|    Wilcox|          Tucker LLC|         Bryanville|             Albania| (429)005-9030x11004|        541-116-4501| mariah88@santos.com|             NULL|https://www.ramos...|\n",
      "|   26|09D7D7C8Fe09aea|    Marcus|     Moody|           Giles Ltd|        Kaitlyntown|              Panama|        674-677-8623|    909-277-5485x566|donnamullins@norr...|       2022-05-24|https://www.curry...|\n",
      "|   27|aBdfcF2c50b0bfD|    Dakota|     Poole|       Simmons Group|       Michealshire|             Belarus|  (371)987-8576x4720|        071-152-1376| stacey67@fields.org|       2022-02-20|https://sanford-w...|\n",
      "|   28|b92EBfdF8a3f0E6| Frederick|    Harper|Hinton, Chaney an...|  South Marissatown|         Switzerland|+1-077-121-1558x0687|        264.742.7149|jacobkhan@bright.biz|       2022-05-26|https://callahan....|\n",
      "|   29|3B5dAAFA41AFa22|  Stefanie|   Missing|       Santana-Duran|       Acevedoville|Saint Vincent and...|       (752)776-3286|+1-472-021-4814x8...|  wterrell@clark.com|       2020-07-30| https://meyers.com/|\n",
      "|   30|EDA69ca7a6e96a2|      Kent|  Bradshaw|          Sawyer PLC|       North Harold|            Tanzania| +1-472-143-5037x884|        126.922.6153|   qjimenez@boyd.com|       2020-04-26|http://maynard-ho...|\n",
      "|   31|64DCcDFaB9DFd4e|      Jack|      Tate|Acosta, Petersen ...|        West Samuel|            Zimbabwe|  965-108-4406x20714|   046.906.1442x6784|gfigueroa@boone-z...|       2021-09-15|http://www.hawkin...|\n",
      "|   32|679c6c83DD872d6|       Tom|  Trujillo|         Mcgee Group|  Cunninghamborough|             Denmark|        416-338-3758|       (775)890-7209|tapiagreg@beard.info|       2022-01-13|http://www.daniel...|\n",
      "|   33|7Ce381e4Afa4ba9|   Gabriel|     Mejia|      Adkins-Salinas|      Port Annatown|       Liechtenstein|          4077245425|  646.044.0696x66800|coleolson@jenning...|       2021-04-24|https://patel-han...|\n",
      "|   34|A09AEc6E3bF70eE|   Kaitlyn|   Santana|       Herrera Group|        New Kaitlyn|United States of ...|          6303643286|             Missing|georgeross@miles.org|       2021-09-21|    http://pham.com/|\n",
      "|   35|aA9BAFfBc3710fe|     Faith|      Moon|Waters, Chase and...|   West Marthaburgh|             Bahamas|+1-586-217-0359x6317|               -2419|willistonya@rando...|       2021-11-03|https://spencer-c...|\n",
      "|   36|E11dfb2DB8C9f72|    Tammie|     Haley|Palmer, Barnes an...|        East Teresa|              Belize|001-276-734-4113x...|       (430)300-8770|harrisisaiah@jenk...|       2022-01-04|http://evans-simo...|\n",
      "|   37|889eCf90f68c5Da|  Nicholas|      Sosa|          Jordan Ltd|       South Hunter|             Uruguay|       (661)425-6042|        975-998-1519|   fwolfe@dorsey.com|       2021-08-10|https://www.flemi...|\n",
      "|   38|7a1Ee69F4fF4B4D|    Jordan|       Gay|     Glover and Sons|       South Walter|     Solomon Islands|          7208417020|          8035336772|tiffanydavies@har...|       2021-02-24| http://www.lee.org/|\n",
      "|   39|dca4f1D0A0fc5c9|     Bruce|   Esparza|       Huerta-Mclean|          Poolefurt|          Montenegro|        559-529-4424|001-625-000-7132x...|preese@frye-vega.com|       2021-10-22|http://www.farley...|\n",
      "|   40|17aD8e2dB3df03D|   Missing|     Garza|        Anderson Ltd|          West John|              Poland|001-067-713-6440x158|  (978)289-8785x5766|    ann48@miller.com|       2021-11-01|  http://spence.com/|\n",
      "|   41|2f79Cd309624Abb|   Natalie|    Gentry|          Monroe PLC|        West Darius|  Dominican Republic|        830.996.8238|        499.122.5415|tcummings@fitzpat...|       2020-10-10|http://www.dorsey...|\n",
      "|   42|6e5ad5a5e2bB5Ca|     Bryan|      Dunn|    Kaufman and Sons|      North Jimstad|        Burkina Faso|    001-710-802-5565|  078.699.8982x13881|woodwardandres@ph...|       2021-09-08|http://www.butler...|\n",
      "|   43|7E441b6B228DBcA|     Wayne|   Simpson|     Perkins-Trevino|East Rebekahborough|             Bolivia|  (344)156-8632x1869|  463-445-3702x38463|barbarapittman@ho...|       2020-12-13|https://gillespie...|\n",
      "|   44|D3fC11A9C235Dc6|      Luis|     Greer|           Cross PLC|         North Drew|            Bulgaria|001-336-025-6849x701|   684.698.2911x6092|bstuart@williamso...|       2022-05-15|https://fletcher-...|\n",
      "|   45|30Dfa48fe5Ede78|    Rhonda|     Frost|Herrera, Shepherd...|    Lake Lindaburgh|              Monaco|       (127)081-9339|+1-431-028-3337x3492|zkrueger@wolf-cha...|       2021-12-06|http://www.khan.com/|\n",
      "|   46|fD780ED8dbEae7B|    Joanne|   Missing|Price, Sexton and...|      Gwendolynview|               Palau|       (897)726-7952|  (467)886-9467x5721|   juan80@henson.net|       2020-07-01|   http://ochoa.com/|\n",
      "|   47|300A40d3ce24bBA|  Geoffrey|    Guzman|       Short-Wiggins|            Missing|          Uzbekistan|    975.235.8921x269|       (983)188-6873|bauercrystal@gay.com|       2020-04-23|https://decker-kl...|\n",
      "|   48|283DFCD0Dba40aF|    Gloria|    Mccall|Brennan, Acosta a...|     North Kerriton|               Ghana|        445-603-6729|001-395-959-4736x...|bartlettjenna@zun...|       2022-03-11|http://burgess-fr...|\n",
      "|   49|F4Fc91fEAEad286|     Brady|     Cohen|    Osborne-Erickson|  North Eileenville|United Arab Emirates|    741.849.0139x524|+1-028-691-7497x0894|mccalltyrone@durh...|       2022-03-10|http://hammond-ba...|\n",
      "|   50|80F33Fd2AcebF05|    Latoya|    Mccann|Hobbs, Garrett an...|    Port Sergiofort|             Belarus| (530)287-4548x29481|  162-234-0249x32790|bobhammond@barry.biz|       2021-12-02|https://www.burto...|\n",
      "|   51|Aa20BDe68eAb0e9|    Gerald|   Hawkins|Phelps, Forbes an...|     New Alberttown|              Canada|+1-323-239-1456x9...|       (092)508-0269|uwarner@steele-ar...|       2021-03-19|https://valenzuel...|\n",
      "|   52|e898eEB1B9FE22b|    Samuel|  Crawford|May, Goodwin and ...|      South Jasmine|             Algeria|        802-242-7457|   626.116.9535x8578|xpittman@ritter-c...|       2021-03-27|https://guerrero....|\n",
      "|   53|faCEF517ae7D8eB|  Patricia|   Goodwin|Christian, Winter...|          Cowanfort|           Swaziland|  322.549.7139x70040|       (111)741-4173|vaughanchristy@la...|       2021-03-08|  http://clark.info/|\n",
      "|   54|c09952De6Cda8aA|    Stacie|   Richard|            Byrd Inc|        New Deborah|          Madagascar|001-622-948-3641x...|001-731-168-2893x...|clinton85@colon-a...|       2020-10-15|    https://kim.com/|\n",
      "|   55|f3BEf3Be028166f|     Robin|      West|Nixon, Blackwell ...|          Wallstown|             Ecuador|        698.303.4267|001-683-837-7651x525|greenemiranda@zim...|       2022-01-13|https://www.mora....|\n",
      "|   56|C6F2Fc6a7948a4e|     Ralph|      Haas|          Montes PLC|  Lake Ellenchester|Palestinian Terri...|          2239271999|001-962-434-0867x649|goodmancesar@figu...|       2020-05-25|     http://may.com/|\n",
      "|   57|c8FE57cBBdCDcb2|   Phyllis| Maldonado|           Costa PLC|       Lake Whitney|    Saint Barthelemy|          4500370767|001-508-064-6725x017|yhanson@warner-di...|       2021-01-25|http://www.bernar...|\n",
      "|   58|B5acdFC982124F2|     Danny|   Parrish|           Novak LLC|     East Jaredbury|United Arab Emirates|  (669)384-8597x8794|    506.731.5952x571|howelldarren@hous...|       2021-03-17|http://www.parson...|\n",
      "|   59|8c7DdF10798bCC3|     Kathy|      Hill|Moore, Mccoy and ...|         Selenabury|South Georgia and...|001-171-716-2175x310|        888.625.0654|ncamacho@boone-si...|       2020-11-15|  http://hayden.com/|\n",
      "|   60|C681dDd0cc422f7|     Kelli|     Hardy|           Petty Ltd|          Huangfort|Sao Tome and Prin...|   020.324.2191x2022|        424-157-8216|kristopher62@oliv...|       2020-12-20|http://www.kidd.com/|\n",
      "|   61|a940cE42e035F28|      Lynn|      Pham|Brennan, Camacho ...|    East Pennyshire|            Portugal|    846.468.6834x611|    001-248-691-0006|mpham@rios-guzman...|       2020-08-21|https://www.murph...|\n",
      "|   62|9Cf5E6AFE0aeBfd|   Shelley|    Harris|Prince, Malone an...| Port Jasminborough|                Togo|   423.098.0315x8373|+1-386-458-8944x1...|zachary96@mitchel...|       2020-12-10|https://www.ryan....|\n",
      "|   63|aEcbe5365BbC67D|     Eddie|   Jimenez|      Caldwell Group|      West Kristine|            Ethiopia|+1-235-657-1073x6306|  (026)401-7353x2417|kristiwhitney@ber...|       2022-03-24|  http://cherry.com/|\n",
      "|   64|FCBdfCEAe20A8Dc|     Chloe|Hutchinson|           Simon LLC|        South Julia|         Netherlands|        981-544-9452| +1-288-552-4666x060|leah85@sutton-ter...|       2022-05-15|https://mitchell....|\n",
      "|   65|636cBF0835E10ff|    Eileen|     Lynch|Knight, Abbott an...|       Helenborough|             Liberia|+1-158-951-4131x5...|001-673-779-6713x680|levigiles@vincent...|       2021-01-02|   http://mckay.com/|\n",
      "|   66|fF1b6c9E8Fbf1ff|  Fernando|   Lambert|        Church-Banks|         Lake Nancy|           Lithuania|        497.829.9038|          3863743398|fisherlinda@schae...|       2021-04-23|https://www.vang....|\n",
      "|   67|2A13F74EAa7DA6c|   Makayla|    Cannon|       Henderson Inc|         Georgeport|       New Caledonia|001-215-801-6392x...|        027-609-6460|scottcurtis@hurle...|       2020-01-20|http://www.velazq...|\n",
      "|   68|a014Ec1b9FccC1E|       Tom|  Alvarado| Donaldson-Dougherty|   South Sophiaberg|            Kiribati|  (585)606-2980x2258|   730-797-3594x5614|nicholsonnina@mon...|       2020-08-18|http://odom-masse...|\n",
      "|   69|421a109cABDf5fa|  Virginia|    Dudley|          Warren Ltd|           Hartbury|French Southern T...|  027.846.3705x14184|+1-439-171-1846x4636|zvalencia@phelps.com|       2021-01-31|http://hunter-esp...|\n",
      "|   70|CC68FD1D3Bbbf22|     Riley|      Good|            Wade PLC|         Erikaville|              Canada|          6977745822|        855-436-7641| alex06@galloway.com|       2020-02-03|  http://conway.org/|\n",
      "|   71|CBCd2Ac8E3eBDF9|Alexandria|      Buck|       Keller-Coffey|        Nicolasfort|                Iran|  078-900-4760x76668|  414-112-8700x68751|   lee48@manning.com|       2021-02-20| https://ramsey.org/|\n",
      "|   72|Ef859092FbEcC07|   Richard|      Roth|      Conway-Mcbride|   New Jasmineshire|             Morocco|        581-440-6539|          9857827463|aharper@maddox-to...|       2020-02-23|https://www.brook...|\n",
      "|   73|F560f2d3cDFb618|   Candice|    Keller|      Huynh and Sons|    East Summerstad|            Zimbabwe|001-927-965-8550x...|001-243-038-4271x...|buckleycory@odonn...|       2020-08-22|https://www.lucer...|\n",
      "|   74|A3F76Be153Df4a3|     Anita|    Benson|         Parrish Ltd|        Skinnerport|  Russian Federation|  874.617.5668x69878|  (399)820-6418x0071|angie04@oconnell.com|       2020-02-09| http://oconnor.com/|\n",
      "|   75|D01Af0AF7cBbFeA|    Regina|     Stein|        Guzman-Brown|            Raystad|     Solomon Islands|001-469-848-0724x...|001-085-360-4426x...|zrosario@rojas-ha...|       2022-01-15|http://www.johnst...|\n",
      "|   76|d40e89dCade7b2F|     Debra|    Riddle|Chang, Aguirre an...|         Colinhaven|United States Vir...|+1-768-182-6014x1...|       (303)961-4491|shieldskerry@robl...|       2020-07-11| http://kaiser.info/|\n",
      "|   77|BF6a1f9bd1bf8DE|  Brittany|    Zuniga|        Mason-Hester|      West Reginald|     Kyrgyz Republic|       (050)136-9025|001-480-851-2496x...|mchandler@cochran...|       2021-07-24|http://www.boyle....|\n",
      "|   78|FfaeFFbbbf280db|   Cassidy|   Mcmahon|Mcguire, Huynh an...| Lake Sherryborough|             Myanmar|          5040771311|   684-682-0021x1326|katrinalane@fitzg...|       2020-10-21|  https://hurst.com/|\n",
      "|   79|CbAE1d1e9a8dCb1|    Laurie|Pennington|Sanchez, Marsh an...|Port Katherineville|            Dominica|    007.155.3406x553| +1-809-862-5566x277|cookejill@powell.com|       2020-06-08|http://www.hebert...|\n",
      "|   80|A7F85c1DE4dB87f| Alejandro|     Blair|Combs, Waller and...|         Thomasland|             Iceland| (690)068-4641x51468|   555.509.8691x2329|elizabethbarr@ewi...|       2020-09-19|https://mercado-b...|\n",
      "|   81|D6CEAfb3BDbaa1A|    Leslie|  Jennings|   Blankenship-Arias|          Coreybury|          Micronesia|        629.198.6346|        075.256.0829| corey75@wiggins.com|       2021-11-13|https://www.juare...|\n",
      "|   82|Ebdb6F6F7c90b69|  Kathleen|     Mckay|Coffey, Lamb and ...|     Lake Janiceton|Saint Vincent and...|       (733)910-9968|  (691)247-4128x0665|chloelester@higgi...|       2021-09-12|http://www.owens-...|\n",
      "|   83|E8E7e8Cfe516ef0|    Hunter|    Moreno|Fitzpatrick-Lawrence|       East Clinton|         Isle of Man|       (733)833-6754|    001-761-013-7121|isaac26@benton-fi...|       2020-12-28|  http://walls.info/|\n",
      "|   84|78C06E9b6B3DF20|      Chad|  Davidson|      Garcia-Jimenez|  South Joshuashire|                Oman|          8275702958|       (804)842-4715|justinwalters@jim...|       2021-11-15|http://www.garner...|\n",
      "|   85|03A1E62ADdeb31c|     Corey|      Holt|Mcdonald, Bird an...|         New Glenda|                Fiji|001-439-242-4986x...|          3162708934|maurice46@morgan.com|       2020-02-18|http://www.watson...|\n",
      "|   86|C6763c99d0bd16D|      Emma|Cunningham|        Stephens Inc|  North Jillianview|         New Zealand|  128-059-0206x60217|  (312)164-4545x2284| walter83@juarez.org|       2022-05-13|http://www.reid.i...|\n",
      "|   87|ebe77E5Bf9476CE|     Duane|     Woods|      Montoya-Miller|          Lyonsberg|            Maldives|  (636)544-7783x7288|  (203)287-1003x5932|  kmercer@wagner.com|       2020-07-21|  http://murray.org/|\n",
      "|   88|E4Bbcd8AD81fC5f|    Alison|    Vargas|Vaughn, Watts and...|  East Cristinabury|               Benin|        365-273-8144|   053-308-7653x6287|   vcantu@norton.com|       2020-11-10|  http://mason.info/|\n",
      "|   89|efeb73245CDf1fF|    Vernon|      Kane|   Carter-Strickland|         Thomasfurt|               Yemen|    114-854-1159x555|        499-608-4612|hilljesse@barrett...|       2021-04-15|http://www.duffy-...|\n",
      "|   90|37Ec4B395641c1E|      Lori|   Flowers|     Decker-Mcknight|     North Joeburgh|             Namibia|        679.415.1210|   945-842-3659x4581|tyrone77@valenzue...|       2021-01-09|http://www.deleon...|\n",
      "|   91|5ef6d3eefdD43bE|      Nina|    Chavez|       Byrd-Campbell|     Cassidychester|              Bhutan|        053-344-3205| +1-330-920-5422x571|elliserica@frank.com|       2020-03-26|https://www.pugh....|\n",
      "|   92|98b3aeDcC3B9FF3|     Shane|     Foley|          Rocha-Hart|   South Dannymouth|             Hungary|               -1692|001-626-114-5844x...|  nsteele@sparks.com|       2021-07-06|https://www.holt-...|\n",
      "|   93|aAb6AFc7AfD0fF3|    Collin|     Ayers|       Lamb-Peterson|       South Lonnie|            Anguilla|    404-645-5351x012|001-257-582-8850x...|dudleyemily@gonza...|       2021-06-29|http://www.ruiz.com/|\n",
      "|   94|54B5B5Fe9F1B6C5|    Sherry|     Young|Lee, Lucero and J...|       Frankchester|     Solomon Islands|        158-687-1764|   (438)375-6207x003|alan79@gates-mcla...|       2021-04-04| https://travis.net/|\n",
      "|   95|BE91A0bdcA49Bbc|   Darrell|   Douglas|Newton, Petersen ...|       Daisyborough|                Mali|001-084-845-9524x...|    001-769-564-6303|grayjean@lowery-g...|       2022-02-17|  https://banks.biz/|\n",
      "|   96|cb8E23e48d22Eae|      Karl|     Greer|           Carey LLC|       East Richard|              Guyana| (188)169-1674x58692|001-841-293-3519x614|    hhart@jensen.com|       2022-01-30|http://hayes-pere...|\n",
      "|   97|CeD220bdAaCfaDf|      Lynn|  Atkinson|Ware, Burns and O...|       New Bradview|           Sri Lanka|               -3769|        605.413.3198|   vkemp@ferrell.com|       2021-07-10|https://novak-all...|\n",
      "|   98|28CDbC0dFe4b1Db|      Fred|    Guerra|       Schmitt-Jones|         Ortegaland|     Solomon Islands|+1-753-067-8419x7170|+1-632-666-7507x9...|    swagner@kane.org|       2021-09-18|https://www.ross....|\n",
      "|   99|c23d1D9EE8DEB0A|    Yvonne|    Farmer|  Fitzgerald-Harrell|    Lake Elijahview|               Aruba|       (530)311-9786|001-869-452-0943x...|mccarthystephen@h...|       2021-08-11|http://watkins.info/|\n",
      "|  100|2354a0E336A91A1|  Clarence|    Haynes|  Le, Nash and Cross|          Judymouth|            Honduras|       (753)813-6941|        783.639.1472|colleen91@faulkne...|       2020-03-11|http://www.hatfie...|\n",
      "+-----+---------------+----------+----------+--------------------+-------------------+--------------------+--------------------+--------------------+--------------------+-----------------+--------------------+\n",
      "\n"
     ]
    }
   ],
   "source": [
    "null_df.na.fill('Missing').show(100)"
   ]
  },
  {
   "cell_type": "code",
   "execution_count": 100,
   "id": "d0ccd454-f85c-44d9-89e1-68e1a498d2fa",
   "metadata": {},
   "outputs": [
    {
     "name": "stdout",
     "output_type": "stream",
     "text": [
      "+-----+---------------+----------+----------+--------------------+-------------------+--------------------+--------------------+--------------------+--------------------+-----------------+--------------------+\n",
      "|Index|    Customer Id|First Name| Last Name|             Company|               City|             Country|             Phone 1|             Phone 2|               Email|Subscription Date|             Website|\n",
      "+-----+---------------+----------+----------+--------------------+-------------------+--------------------+--------------------+--------------------+--------------------+-----------------+--------------------+\n",
      "|    1|DD37Cf93aecA6Dc|    Sheryl|    Baxter|     Rasmussen Group|       East Leonard|               Chile|        229.077.5154|    397.884.0519x718|zunigavanessa@smi...|       2020-08-24|http://www.stephe...|\n",
      "|    2|1Ef7b82A4CAAD10|   Preston|    Lozano|         Vega-Gentry|  East Jimmychester|            Djibouti|          5153435776|    686-620-1820x944|     vmata@colon.com|       2021-04-23|http://www.hobbs....|\n",
      "|    3|6F94879bDAfE5a6|       Roy|     Berry|       Murillo-Perry|      Isabelborough| Antigua and Barbuda|               -1199| (496)978-3969x58947| beckycarr@hogan.com|       2020-03-25|http://www.lawren...|\n",
      "|    4|5Cef8BFA16c5e3c|     Linda|     Olsen|Dominguez, Mcmill...|         Bensonview|  Dominican Republic|001-808-617-6467x...|               -9892|stanleyblackwell@...|       2020-06-02|http://www.good-l...|\n",
      "|    5|053d585Ab6b3159|    Joanna|    Bender|Martin, Lang and ...|     West Priscilla|Slovakia (Slovak ...|001-234-203-0635x...|001-199-446-3860x...|colinalvarado@mil...|       2021-04-17|https://goodwin-i...|\n",
      "|    6|2d08FB17EE273F4|     Aimee|     Downs|        Steele Group|      Chavezborough|Bosnia and Herzeg...| (283)437-3886x88321|        999-728-1637| louis27@gilbert.com|       2020-02-25|http://www.berger...|\n",
      "|    7|EA4d384DfDbBf77|    Darren|      Peck|Lester, Woodard a...|           Lake Ana|    Pitcairn Islands|  (496)452-6181x3291|+1-247-266-0963x4995| tgates@cantrell.com|       2021-08-24| https://www.le.com/|\n",
      "|    8|0e04AFde9f225dE|     Brett|    Mullen|Sanford, Davenpor...|            Kimport|            Bulgaria|001-583-352-7197x297|    001-333-145-0369|     asnow@colon.com|       2021-04-12|https://hammond-r...|\n",
      "|    9|C2dE4dEEc489ae0|    Sheryl|    Meyers|      Browning-Simon|       Robersonstad|              Cyprus|   854-138-4911x5772| +1-448-910-2276x729|mariokhan@ryan-po...|       2020-01-13|https://www.bullo...|\n",
      "|   10|8C2811a503C7c5a|  Michelle| Gallagher|        Beck-Hendrix|         Elaineberg|         Timor-Leste|    739.218.2516x459|001-054-401-0347x617|   mdyer@escobar.net|       2021-11-08|  https://arias.com/|\n",
      "|   11|216E205d6eBb815|      Carl| Schroeder|Oconnell, Meza an...|       Shannonville|            Guernsey|    637-854-0256x825|    114.336.0784x788|  kirksalas@webb.com|       2021-10-20|https://simmons-h...|\n",
      "|   12|CEDec94deE6d69B|     Jenna|    Dodson|Hoffman, Reed and...|        East Andrea|             Vietnam|       (041)737-3846|+1-556-888-3485x4...|  mark42@robbins.com|       2020-11-29|                NULL|\n",
      "|   13|e35426EbDEceaFF|    Tracey|      Mata|      Graham-Francis|  South Joannamouth|                Togo|    001-949-844-8787|       (855)713-8773|    alex56@walls.org|       2021-12-02|http://www.beck.com/|\n",
      "|   14|A08A8aF8BE9FaD4|  Kristine|       Cox|      Carpenter-Cook|           Jodyberg|           Sri Lanka|  786-284-3358x62152|+1-315-627-1796x8074|holdenmiranda@cla...|       2021-02-08|https://www.brand...|\n",
      "|   15|6fEaA1b7cab7B6C|     Faith|      Lutz|      Carter-Hancock|          Burchbury|           Singapore|  (781)861-7180x8306|        207-185-3665|cassieparrish@ble...|       2022-01-26|http://stevenson....|\n",
      "|   16|8cad0b4CBceaeec|   Miranda|   Beasley|                NULL|       Desireeshire|                Oman|    540.085.3135x185|+1-600-462-6432x2...|vduncan@parks-har...|       2022-04-12|  http://acosta.org/|\n",
      "|   17|a5DC21AE3a21eaA|  Caroline|     Foley|     Winters-Mendoza|  West Adriennestad|      Western Sahara|   936.222.4746x9924|001-469-948-6341x359|holtgwendolyn@wat...|       2021-03-10|http://www.benson...|\n",
      "|   18|F8Aa9d6DfcBeeF8|      Greg|      Mata|       Valentine LLC|        Lake Leslie|          Mozambique|       (701)087-2415| (195)156-1861x26241|jaredjuarez@carro...|       2022-03-26|http://pitts-cher...|\n",
      "|   19|F160f5Db3EfE973|  Clifford|  Jacobson|           Simon LLC|         Harmonview|South Georgia and...|001-151-330-3524x...|       (748)477-7174|joseph26@jacobson...|       2020-09-24|https://mcconnell...|\n",
      "|   20|0F60FF3DdCd7aB0|    Joanna|      Kirk|      Mays-Mccormick|         Jamesshire|    French Polynesia|   (266)131-7001x711| (283)312-5579x11543|tuckerangie@salaz...|       2021-09-24|https://www.camac...|\n",
      "|   21|9F9AdB7B8A6f7F2|   Maxwell|      Frye|       Patterson Inc|         East Carly|               Malta|        423.262.3059|   202-880-0688x7491|fgibson@drake-web...|       2022-01-12|http://www.robert...|\n",
      "|   22|FBd0Ded4F02a742|     Kiara|   Houston|Manning, Hester a...|        South Alvin|         Netherlands|001-274-040-3582x...|+1-528-175-0973x4684|blanchardbob@wall...|       2020-09-15|https://www.reid-...|\n",
      "|   23|2FB0FAA1d429421|   Colleen|    Howard|      Greer and Sons|       Brittanyview|            Paraguay|          1935085151|  (947)115-7711x5488|rsingleton@ryan-c...|       2020-08-19|    http://paul.biz/|\n",
      "|   24|010468dAA11382c|     Janet|Valenzuela|     Watts-Donaldson|      Veronicamouth|Lao People's Demo...|   354.259.5062x7538|        500.433.2022|stefanie71@spence...|       2020-09-08| https://moreno.biz/|\n",
      "|   25|eC1927Ca84E033e|     Shane|    Wilcox|          Tucker LLC|         Bryanville|             Albania| (429)005-9030x11004|        541-116-4501| mariah88@santos.com|             NULL|https://www.ramos...|\n",
      "|   26|09D7D7C8Fe09aea|    Marcus|     Moody|           Giles Ltd|        Kaitlyntown|              Panama|        674-677-8623|    909-277-5485x566|donnamullins@norr...|       2022-05-24|https://www.curry...|\n",
      "|   27|aBdfcF2c50b0bfD|    Dakota|     Poole|       Simmons Group|       Michealshire|             Belarus|  (371)987-8576x4720|        071-152-1376| stacey67@fields.org|       2022-02-20|https://sanford-w...|\n",
      "|   28|b92EBfdF8a3f0E6| Frederick|    Harper|Hinton, Chaney an...|  South Marissatown|         Switzerland|+1-077-121-1558x0687|        264.742.7149|jacobkhan@bright.biz|       2022-05-26|https://callahan....|\n",
      "|   29|3B5dAAFA41AFa22|  Stefanie|   Missing|       Santana-Duran|       Acevedoville|Saint Vincent and...|       (752)776-3286|+1-472-021-4814x8...|  wterrell@clark.com|       2020-07-30| https://meyers.com/|\n",
      "|   30|EDA69ca7a6e96a2|      Kent|  Bradshaw|          Sawyer PLC|       North Harold|            Tanzania| +1-472-143-5037x884|        126.922.6153|   qjimenez@boyd.com|       2020-04-26|http://maynard-ho...|\n",
      "|   31|64DCcDFaB9DFd4e|      Jack|      Tate|Acosta, Petersen ...|        West Samuel|            Zimbabwe|  965-108-4406x20714|   046.906.1442x6784|gfigueroa@boone-z...|       2021-09-15|http://www.hawkin...|\n",
      "|   32|679c6c83DD872d6|       Tom|  Trujillo|         Mcgee Group|  Cunninghamborough|             Denmark|        416-338-3758|       (775)890-7209|tapiagreg@beard.info|       2022-01-13|http://www.daniel...|\n",
      "|   33|7Ce381e4Afa4ba9|   Gabriel|     Mejia|      Adkins-Salinas|      Port Annatown|       Liechtenstein|          4077245425|  646.044.0696x66800|coleolson@jenning...|       2021-04-24|https://patel-han...|\n",
      "|   34|A09AEc6E3bF70eE|   Kaitlyn|   Santana|       Herrera Group|        New Kaitlyn|United States of ...|          6303643286|                NULL|georgeross@miles.org|       2021-09-21|    http://pham.com/|\n",
      "|   35|aA9BAFfBc3710fe|     Faith|      Moon|Waters, Chase and...|   West Marthaburgh|             Bahamas|+1-586-217-0359x6317|               -2419|willistonya@rando...|       2021-11-03|https://spencer-c...|\n",
      "|   36|E11dfb2DB8C9f72|    Tammie|     Haley|Palmer, Barnes an...|        East Teresa|              Belize|001-276-734-4113x...|       (430)300-8770|harrisisaiah@jenk...|       2022-01-04|http://evans-simo...|\n",
      "|   37|889eCf90f68c5Da|  Nicholas|      Sosa|          Jordan Ltd|       South Hunter|             Uruguay|       (661)425-6042|        975-998-1519|   fwolfe@dorsey.com|       2021-08-10|https://www.flemi...|\n",
      "|   38|7a1Ee69F4fF4B4D|    Jordan|       Gay|     Glover and Sons|       South Walter|     Solomon Islands|          7208417020|          8035336772|tiffanydavies@har...|       2021-02-24| http://www.lee.org/|\n",
      "|   39|dca4f1D0A0fc5c9|     Bruce|   Esparza|       Huerta-Mclean|          Poolefurt|          Montenegro|        559-529-4424|001-625-000-7132x...|preese@frye-vega.com|       2021-10-22|http://www.farley...|\n",
      "|   40|17aD8e2dB3df03D|   Missing|     Garza|        Anderson Ltd|          West John|              Poland|001-067-713-6440x158|  (978)289-8785x5766|    ann48@miller.com|       2021-11-01|  http://spence.com/|\n",
      "|   41|2f79Cd309624Abb|   Natalie|    Gentry|          Monroe PLC|        West Darius|  Dominican Republic|        830.996.8238|        499.122.5415|tcummings@fitzpat...|       2020-10-10|http://www.dorsey...|\n",
      "|   42|6e5ad5a5e2bB5Ca|     Bryan|      Dunn|    Kaufman and Sons|      North Jimstad|        Burkina Faso|    001-710-802-5565|  078.699.8982x13881|woodwardandres@ph...|       2021-09-08|http://www.butler...|\n",
      "|   43|7E441b6B228DBcA|     Wayne|   Simpson|     Perkins-Trevino|East Rebekahborough|             Bolivia|  (344)156-8632x1869|  463-445-3702x38463|barbarapittman@ho...|       2020-12-13|https://gillespie...|\n",
      "|   44|D3fC11A9C235Dc6|      Luis|     Greer|           Cross PLC|         North Drew|            Bulgaria|001-336-025-6849x701|   684.698.2911x6092|bstuart@williamso...|       2022-05-15|https://fletcher-...|\n",
      "|   45|30Dfa48fe5Ede78|    Rhonda|     Frost|Herrera, Shepherd...|    Lake Lindaburgh|              Monaco|       (127)081-9339|+1-431-028-3337x3492|zkrueger@wolf-cha...|       2021-12-06|http://www.khan.com/|\n",
      "|   46|fD780ED8dbEae7B|    Joanne|   Missing|Price, Sexton and...|      Gwendolynview|               Palau|       (897)726-7952|  (467)886-9467x5721|   juan80@henson.net|       2020-07-01|   http://ochoa.com/|\n",
      "|   47|300A40d3ce24bBA|  Geoffrey|    Guzman|       Short-Wiggins|               NULL|          Uzbekistan|    975.235.8921x269|       (983)188-6873|bauercrystal@gay.com|       2020-04-23|https://decker-kl...|\n",
      "|   48|283DFCD0Dba40aF|    Gloria|    Mccall|Brennan, Acosta a...|     North Kerriton|               Ghana|        445-603-6729|001-395-959-4736x...|bartlettjenna@zun...|       2022-03-11|http://burgess-fr...|\n",
      "|   49|F4Fc91fEAEad286|     Brady|     Cohen|    Osborne-Erickson|  North Eileenville|United Arab Emirates|    741.849.0139x524|+1-028-691-7497x0894|mccalltyrone@durh...|       2022-03-10|http://hammond-ba...|\n",
      "|   50|80F33Fd2AcebF05|    Latoya|    Mccann|Hobbs, Garrett an...|    Port Sergiofort|             Belarus| (530)287-4548x29481|  162-234-0249x32790|bobhammond@barry.biz|       2021-12-02|https://www.burto...|\n",
      "|   51|Aa20BDe68eAb0e9|    Gerald|   Hawkins|Phelps, Forbes an...|     New Alberttown|              Canada|+1-323-239-1456x9...|       (092)508-0269|uwarner@steele-ar...|       2021-03-19|https://valenzuel...|\n",
      "|   52|e898eEB1B9FE22b|    Samuel|  Crawford|May, Goodwin and ...|      South Jasmine|             Algeria|        802-242-7457|   626.116.9535x8578|xpittman@ritter-c...|       2021-03-27|https://guerrero....|\n",
      "|   53|faCEF517ae7D8eB|  Patricia|   Goodwin|Christian, Winter...|          Cowanfort|           Swaziland|  322.549.7139x70040|       (111)741-4173|vaughanchristy@la...|       2021-03-08|  http://clark.info/|\n",
      "|   54|c09952De6Cda8aA|    Stacie|   Richard|            Byrd Inc|        New Deborah|          Madagascar|001-622-948-3641x...|001-731-168-2893x...|clinton85@colon-a...|       2020-10-15|    https://kim.com/|\n",
      "|   55|f3BEf3Be028166f|     Robin|      West|Nixon, Blackwell ...|          Wallstown|             Ecuador|        698.303.4267|001-683-837-7651x525|greenemiranda@zim...|       2022-01-13|https://www.mora....|\n",
      "|   56|C6F2Fc6a7948a4e|     Ralph|      Haas|          Montes PLC|  Lake Ellenchester|Palestinian Terri...|          2239271999|001-962-434-0867x649|goodmancesar@figu...|       2020-05-25|     http://may.com/|\n",
      "|   57|c8FE57cBBdCDcb2|   Phyllis| Maldonado|           Costa PLC|       Lake Whitney|    Saint Barthelemy|          4500370767|001-508-064-6725x017|yhanson@warner-di...|       2021-01-25|http://www.bernar...|\n",
      "|   58|B5acdFC982124F2|     Danny|   Parrish|           Novak LLC|     East Jaredbury|United Arab Emirates|  (669)384-8597x8794|    506.731.5952x571|howelldarren@hous...|       2021-03-17|http://www.parson...|\n",
      "|   59|8c7DdF10798bCC3|     Kathy|      Hill|Moore, Mccoy and ...|         Selenabury|South Georgia and...|001-171-716-2175x310|        888.625.0654|ncamacho@boone-si...|       2020-11-15|  http://hayden.com/|\n",
      "|   60|C681dDd0cc422f7|     Kelli|     Hardy|           Petty Ltd|          Huangfort|Sao Tome and Prin...|   020.324.2191x2022|        424-157-8216|kristopher62@oliv...|       2020-12-20|http://www.kidd.com/|\n",
      "|   61|a940cE42e035F28|      Lynn|      Pham|Brennan, Camacho ...|    East Pennyshire|            Portugal|    846.468.6834x611|    001-248-691-0006|mpham@rios-guzman...|       2020-08-21|https://www.murph...|\n",
      "|   62|9Cf5E6AFE0aeBfd|   Shelley|    Harris|Prince, Malone an...| Port Jasminborough|                Togo|   423.098.0315x8373|+1-386-458-8944x1...|zachary96@mitchel...|       2020-12-10|https://www.ryan....|\n",
      "|   63|aEcbe5365BbC67D|     Eddie|   Jimenez|      Caldwell Group|      West Kristine|            Ethiopia|+1-235-657-1073x6306|  (026)401-7353x2417|kristiwhitney@ber...|       2022-03-24|  http://cherry.com/|\n",
      "|   64|FCBdfCEAe20A8Dc|     Chloe|Hutchinson|           Simon LLC|        South Julia|         Netherlands|        981-544-9452| +1-288-552-4666x060|leah85@sutton-ter...|       2022-05-15|https://mitchell....|\n",
      "|   65|636cBF0835E10ff|    Eileen|     Lynch|Knight, Abbott an...|       Helenborough|             Liberia|+1-158-951-4131x5...|001-673-779-6713x680|levigiles@vincent...|       2021-01-02|   http://mckay.com/|\n",
      "|   66|fF1b6c9E8Fbf1ff|  Fernando|   Lambert|        Church-Banks|         Lake Nancy|           Lithuania|        497.829.9038|          3863743398|fisherlinda@schae...|       2021-04-23|https://www.vang....|\n",
      "|   67|2A13F74EAa7DA6c|   Makayla|    Cannon|       Henderson Inc|         Georgeport|       New Caledonia|001-215-801-6392x...|        027-609-6460|scottcurtis@hurle...|       2020-01-20|http://www.velazq...|\n",
      "|   68|a014Ec1b9FccC1E|       Tom|  Alvarado| Donaldson-Dougherty|   South Sophiaberg|            Kiribati|  (585)606-2980x2258|   730-797-3594x5614|nicholsonnina@mon...|       2020-08-18|http://odom-masse...|\n",
      "|   69|421a109cABDf5fa|  Virginia|    Dudley|          Warren Ltd|           Hartbury|French Southern T...|  027.846.3705x14184|+1-439-171-1846x4636|zvalencia@phelps.com|       2021-01-31|http://hunter-esp...|\n",
      "|   70|CC68FD1D3Bbbf22|     Riley|      Good|            Wade PLC|         Erikaville|              Canada|          6977745822|        855-436-7641| alex06@galloway.com|       2020-02-03|  http://conway.org/|\n",
      "|   71|CBCd2Ac8E3eBDF9|Alexandria|      Buck|       Keller-Coffey|        Nicolasfort|                Iran|  078-900-4760x76668|  414-112-8700x68751|   lee48@manning.com|       2021-02-20| https://ramsey.org/|\n",
      "|   72|Ef859092FbEcC07|   Richard|      Roth|      Conway-Mcbride|   New Jasmineshire|             Morocco|        581-440-6539|          9857827463|aharper@maddox-to...|       2020-02-23|https://www.brook...|\n",
      "|   73|F560f2d3cDFb618|   Candice|    Keller|      Huynh and Sons|    East Summerstad|            Zimbabwe|001-927-965-8550x...|001-243-038-4271x...|buckleycory@odonn...|       2020-08-22|https://www.lucer...|\n",
      "|   74|A3F76Be153Df4a3|     Anita|    Benson|         Parrish Ltd|        Skinnerport|  Russian Federation|  874.617.5668x69878|  (399)820-6418x0071|angie04@oconnell.com|       2020-02-09| http://oconnor.com/|\n",
      "|   75|D01Af0AF7cBbFeA|    Regina|     Stein|        Guzman-Brown|            Raystad|     Solomon Islands|001-469-848-0724x...|001-085-360-4426x...|zrosario@rojas-ha...|       2022-01-15|http://www.johnst...|\n",
      "|   76|d40e89dCade7b2F|     Debra|    Riddle|Chang, Aguirre an...|         Colinhaven|United States Vir...|+1-768-182-6014x1...|       (303)961-4491|shieldskerry@robl...|       2020-07-11| http://kaiser.info/|\n",
      "|   77|BF6a1f9bd1bf8DE|  Brittany|    Zuniga|        Mason-Hester|      West Reginald|     Kyrgyz Republic|       (050)136-9025|001-480-851-2496x...|mchandler@cochran...|       2021-07-24|http://www.boyle....|\n",
      "|   78|FfaeFFbbbf280db|   Cassidy|   Mcmahon|Mcguire, Huynh an...| Lake Sherryborough|             Myanmar|          5040771311|   684-682-0021x1326|katrinalane@fitzg...|       2020-10-21|  https://hurst.com/|\n",
      "|   79|CbAE1d1e9a8dCb1|    Laurie|Pennington|Sanchez, Marsh an...|Port Katherineville|            Dominica|    007.155.3406x553| +1-809-862-5566x277|cookejill@powell.com|       2020-06-08|http://www.hebert...|\n",
      "|   80|A7F85c1DE4dB87f| Alejandro|     Blair|Combs, Waller and...|         Thomasland|             Iceland| (690)068-4641x51468|   555.509.8691x2329|elizabethbarr@ewi...|       2020-09-19|https://mercado-b...|\n",
      "|   81|D6CEAfb3BDbaa1A|    Leslie|  Jennings|   Blankenship-Arias|          Coreybury|          Micronesia|        629.198.6346|        075.256.0829| corey75@wiggins.com|       2021-11-13|https://www.juare...|\n",
      "|   82|Ebdb6F6F7c90b69|  Kathleen|     Mckay|Coffey, Lamb and ...|     Lake Janiceton|Saint Vincent and...|       (733)910-9968|  (691)247-4128x0665|chloelester@higgi...|       2021-09-12|http://www.owens-...|\n",
      "|   83|E8E7e8Cfe516ef0|    Hunter|    Moreno|Fitzpatrick-Lawrence|       East Clinton|         Isle of Man|       (733)833-6754|    001-761-013-7121|isaac26@benton-fi...|       2020-12-28|  http://walls.info/|\n",
      "|   84|78C06E9b6B3DF20|      Chad|  Davidson|      Garcia-Jimenez|  South Joshuashire|                Oman|          8275702958|       (804)842-4715|justinwalters@jim...|       2021-11-15|http://www.garner...|\n",
      "|   85|03A1E62ADdeb31c|     Corey|      Holt|Mcdonald, Bird an...|         New Glenda|                Fiji|001-439-242-4986x...|          3162708934|maurice46@morgan.com|       2020-02-18|http://www.watson...|\n",
      "|   86|C6763c99d0bd16D|      Emma|Cunningham|        Stephens Inc|  North Jillianview|         New Zealand|  128-059-0206x60217|  (312)164-4545x2284| walter83@juarez.org|       2022-05-13|http://www.reid.i...|\n",
      "|   87|ebe77E5Bf9476CE|     Duane|     Woods|      Montoya-Miller|          Lyonsberg|            Maldives|  (636)544-7783x7288|  (203)287-1003x5932|  kmercer@wagner.com|       2020-07-21|  http://murray.org/|\n",
      "|   88|E4Bbcd8AD81fC5f|    Alison|    Vargas|Vaughn, Watts and...|  East Cristinabury|               Benin|        365-273-8144|   053-308-7653x6287|   vcantu@norton.com|       2020-11-10|  http://mason.info/|\n",
      "|   89|efeb73245CDf1fF|    Vernon|      Kane|   Carter-Strickland|         Thomasfurt|               Yemen|    114-854-1159x555|        499-608-4612|hilljesse@barrett...|       2021-04-15|http://www.duffy-...|\n",
      "|   90|37Ec4B395641c1E|      Lori|   Flowers|     Decker-Mcknight|     North Joeburgh|             Namibia|        679.415.1210|   945-842-3659x4581|tyrone77@valenzue...|       2021-01-09|http://www.deleon...|\n",
      "|   91|5ef6d3eefdD43bE|      Nina|    Chavez|       Byrd-Campbell|     Cassidychester|              Bhutan|        053-344-3205| +1-330-920-5422x571|elliserica@frank.com|       2020-03-26|https://www.pugh....|\n",
      "|   92|98b3aeDcC3B9FF3|     Shane|     Foley|          Rocha-Hart|   South Dannymouth|             Hungary|               -1692|001-626-114-5844x...|  nsteele@sparks.com|       2021-07-06|https://www.holt-...|\n",
      "|   93|aAb6AFc7AfD0fF3|    Collin|     Ayers|       Lamb-Peterson|       South Lonnie|            Anguilla|    404-645-5351x012|001-257-582-8850x...|dudleyemily@gonza...|       2021-06-29|http://www.ruiz.com/|\n",
      "|   94|54B5B5Fe9F1B6C5|    Sherry|     Young|Lee, Lucero and J...|       Frankchester|     Solomon Islands|        158-687-1764|   (438)375-6207x003|alan79@gates-mcla...|       2021-04-04| https://travis.net/|\n",
      "|   95|BE91A0bdcA49Bbc|   Darrell|   Douglas|Newton, Petersen ...|       Daisyborough|                Mali|001-084-845-9524x...|    001-769-564-6303|grayjean@lowery-g...|       2022-02-17|  https://banks.biz/|\n",
      "|   96|cb8E23e48d22Eae|      Karl|     Greer|           Carey LLC|       East Richard|              Guyana| (188)169-1674x58692|001-841-293-3519x614|    hhart@jensen.com|       2022-01-30|http://hayes-pere...|\n",
      "|   97|CeD220bdAaCfaDf|      Lynn|  Atkinson|Ware, Burns and O...|       New Bradview|           Sri Lanka|               -3769|        605.413.3198|   vkemp@ferrell.com|       2021-07-10|https://novak-all...|\n",
      "|   98|28CDbC0dFe4b1Db|      Fred|    Guerra|       Schmitt-Jones|         Ortegaland|     Solomon Islands|+1-753-067-8419x7170|+1-632-666-7507x9...|    swagner@kane.org|       2021-09-18|https://www.ross....|\n",
      "|   99|c23d1D9EE8DEB0A|    Yvonne|    Farmer|  Fitzgerald-Harrell|    Lake Elijahview|               Aruba|       (530)311-9786|001-869-452-0943x...|mccarthystephen@h...|       2021-08-11|http://watkins.info/|\n",
      "|  100|2354a0E336A91A1|  Clarence|    Haynes|  Le, Nash and Cross|          Judymouth|            Honduras|       (753)813-6941|        783.639.1472|colleen91@faulkne...|       2020-03-11|http://www.hatfie...|\n",
      "+-----+---------------+----------+----------+--------------------+-------------------+--------------------+--------------------+--------------------+--------------------+-----------------+--------------------+\n",
      "\n"
     ]
    }
   ],
   "source": [
    "null_df.na.fill('Missing', ['First Name','Last name']).show(100)"
   ]
  },
  {
   "cell_type": "code",
   "execution_count": 110,
   "id": "d695058f-a842-4875-9d3b-0f5eda24748c",
   "metadata": {},
   "outputs": [],
   "source": [
    "## Impute\n",
    "\n",
    "from pyspark.ml.feature import Imputer\n",
    "imputer= Imputer(\n",
    "    inputCols=['First Name', 'Last Name', 'Company','City'],\n",
    "    outputCols=[\"{}_imputed\".format(c) for c in ['First Name', 'Last Name', 'Company','City']]\n",
    ").setStrategy('median')"
   ]
  },
  {
   "cell_type": "code",
   "execution_count": 111,
   "id": "b7243ced-b34b-483d-9afc-3efc96d8d713",
   "metadata": {},
   "outputs": [
    {
     "ename": "IllegalArgumentException",
     "evalue": "requirement failed: Column First Name must be of type numeric but was actually of type string.",
     "output_type": "error",
     "traceback": [
      "\u001b[1;31m---------------------------------------------------------------------------\u001b[0m",
      "\u001b[1;31mIllegalArgumentException\u001b[0m                  Traceback (most recent call last)",
      "Cell \u001b[1;32mIn[111], line 2\u001b[0m\n\u001b[0;32m      1\u001b[0m \u001b[38;5;66;03m## Add imputations\u001b[39;00m\n\u001b[1;32m----> 2\u001b[0m \u001b[43mimputer\u001b[49m\u001b[38;5;241;43m.\u001b[39;49m\u001b[43mfit\u001b[49m\u001b[43m(\u001b[49m\u001b[43mnull_df\u001b[49m\u001b[43m)\u001b[49m\u001b[38;5;241m.\u001b[39mtransform(null_df)\u001b[38;5;241m.\u001b[39mshow()\n",
      "File \u001b[1;32m~\\.virtualenvs\\datascience_practice_python-XzMsjZK6\\Lib\\site-packages\\pyspark\\ml\\base.py:205\u001b[0m, in \u001b[0;36mEstimator.fit\u001b[1;34m(self, dataset, params)\u001b[0m\n\u001b[0;32m    203\u001b[0m         \u001b[38;5;28;01mreturn\u001b[39;00m \u001b[38;5;28mself\u001b[39m\u001b[38;5;241m.\u001b[39mcopy(params)\u001b[38;5;241m.\u001b[39m_fit(dataset)\n\u001b[0;32m    204\u001b[0m     \u001b[38;5;28;01melse\u001b[39;00m:\n\u001b[1;32m--> 205\u001b[0m         \u001b[38;5;28;01mreturn\u001b[39;00m \u001b[38;5;28;43mself\u001b[39;49m\u001b[38;5;241;43m.\u001b[39;49m\u001b[43m_fit\u001b[49m\u001b[43m(\u001b[49m\u001b[43mdataset\u001b[49m\u001b[43m)\u001b[49m\n\u001b[0;32m    206\u001b[0m \u001b[38;5;28;01melse\u001b[39;00m:\n\u001b[0;32m    207\u001b[0m     \u001b[38;5;28;01mraise\u001b[39;00m \u001b[38;5;167;01mTypeError\u001b[39;00m(\n\u001b[0;32m    208\u001b[0m         \u001b[38;5;124m\"\u001b[39m\u001b[38;5;124mParams must be either a param map or a list/tuple of param maps, \u001b[39m\u001b[38;5;124m\"\u001b[39m\n\u001b[0;32m    209\u001b[0m         \u001b[38;5;124m\"\u001b[39m\u001b[38;5;124mbut got \u001b[39m\u001b[38;5;132;01m%s\u001b[39;00m\u001b[38;5;124m.\u001b[39m\u001b[38;5;124m\"\u001b[39m \u001b[38;5;241m%\u001b[39m \u001b[38;5;28mtype\u001b[39m(params)\n\u001b[0;32m    210\u001b[0m     )\n",
      "File \u001b[1;32m~\\.virtualenvs\\datascience_practice_python-XzMsjZK6\\Lib\\site-packages\\pyspark\\ml\\wrapper.py:381\u001b[0m, in \u001b[0;36mJavaEstimator._fit\u001b[1;34m(self, dataset)\u001b[0m\n\u001b[0;32m    380\u001b[0m \u001b[38;5;28;01mdef\u001b[39;00m \u001b[38;5;21m_fit\u001b[39m(\u001b[38;5;28mself\u001b[39m, dataset: DataFrame) \u001b[38;5;241m-\u001b[39m\u001b[38;5;241m>\u001b[39m JM:\n\u001b[1;32m--> 381\u001b[0m     java_model \u001b[38;5;241m=\u001b[39m \u001b[38;5;28;43mself\u001b[39;49m\u001b[38;5;241;43m.\u001b[39;49m\u001b[43m_fit_java\u001b[49m\u001b[43m(\u001b[49m\u001b[43mdataset\u001b[49m\u001b[43m)\u001b[49m\n\u001b[0;32m    382\u001b[0m     model \u001b[38;5;241m=\u001b[39m \u001b[38;5;28mself\u001b[39m\u001b[38;5;241m.\u001b[39m_create_model(java_model)\n\u001b[0;32m    383\u001b[0m     \u001b[38;5;28;01mreturn\u001b[39;00m \u001b[38;5;28mself\u001b[39m\u001b[38;5;241m.\u001b[39m_copyValues(model)\n",
      "File \u001b[1;32m~\\.virtualenvs\\datascience_practice_python-XzMsjZK6\\Lib\\site-packages\\pyspark\\ml\\wrapper.py:378\u001b[0m, in \u001b[0;36mJavaEstimator._fit_java\u001b[1;34m(self, dataset)\u001b[0m\n\u001b[0;32m    375\u001b[0m \u001b[38;5;28;01massert\u001b[39;00m \u001b[38;5;28mself\u001b[39m\u001b[38;5;241m.\u001b[39m_java_obj \u001b[38;5;129;01mis\u001b[39;00m \u001b[38;5;129;01mnot\u001b[39;00m \u001b[38;5;28;01mNone\u001b[39;00m\n\u001b[0;32m    377\u001b[0m \u001b[38;5;28mself\u001b[39m\u001b[38;5;241m.\u001b[39m_transfer_params_to_java()\n\u001b[1;32m--> 378\u001b[0m \u001b[38;5;28;01mreturn\u001b[39;00m \u001b[38;5;28;43mself\u001b[39;49m\u001b[38;5;241;43m.\u001b[39;49m\u001b[43m_java_obj\u001b[49m\u001b[38;5;241;43m.\u001b[39;49m\u001b[43mfit\u001b[49m\u001b[43m(\u001b[49m\u001b[43mdataset\u001b[49m\u001b[38;5;241;43m.\u001b[39;49m\u001b[43m_jdf\u001b[49m\u001b[43m)\u001b[49m\n",
      "File \u001b[1;32m~\\.virtualenvs\\datascience_practice_python-XzMsjZK6\\Lib\\site-packages\\py4j\\java_gateway.py:1322\u001b[0m, in \u001b[0;36mJavaMember.__call__\u001b[1;34m(self, *args)\u001b[0m\n\u001b[0;32m   1316\u001b[0m command \u001b[38;5;241m=\u001b[39m proto\u001b[38;5;241m.\u001b[39mCALL_COMMAND_NAME \u001b[38;5;241m+\u001b[39m\\\n\u001b[0;32m   1317\u001b[0m     \u001b[38;5;28mself\u001b[39m\u001b[38;5;241m.\u001b[39mcommand_header \u001b[38;5;241m+\u001b[39m\\\n\u001b[0;32m   1318\u001b[0m     args_command \u001b[38;5;241m+\u001b[39m\\\n\u001b[0;32m   1319\u001b[0m     proto\u001b[38;5;241m.\u001b[39mEND_COMMAND_PART\n\u001b[0;32m   1321\u001b[0m answer \u001b[38;5;241m=\u001b[39m \u001b[38;5;28mself\u001b[39m\u001b[38;5;241m.\u001b[39mgateway_client\u001b[38;5;241m.\u001b[39msend_command(command)\n\u001b[1;32m-> 1322\u001b[0m return_value \u001b[38;5;241m=\u001b[39m \u001b[43mget_return_value\u001b[49m\u001b[43m(\u001b[49m\n\u001b[0;32m   1323\u001b[0m \u001b[43m    \u001b[49m\u001b[43manswer\u001b[49m\u001b[43m,\u001b[49m\u001b[43m \u001b[49m\u001b[38;5;28;43mself\u001b[39;49m\u001b[38;5;241;43m.\u001b[39;49m\u001b[43mgateway_client\u001b[49m\u001b[43m,\u001b[49m\u001b[43m \u001b[49m\u001b[38;5;28;43mself\u001b[39;49m\u001b[38;5;241;43m.\u001b[39;49m\u001b[43mtarget_id\u001b[49m\u001b[43m,\u001b[49m\u001b[43m \u001b[49m\u001b[38;5;28;43mself\u001b[39;49m\u001b[38;5;241;43m.\u001b[39;49m\u001b[43mname\u001b[49m\u001b[43m)\u001b[49m\n\u001b[0;32m   1325\u001b[0m \u001b[38;5;28;01mfor\u001b[39;00m temp_arg \u001b[38;5;129;01min\u001b[39;00m temp_args:\n\u001b[0;32m   1326\u001b[0m     \u001b[38;5;28;01mif\u001b[39;00m \u001b[38;5;28mhasattr\u001b[39m(temp_arg, \u001b[38;5;124m\"\u001b[39m\u001b[38;5;124m_detach\u001b[39m\u001b[38;5;124m\"\u001b[39m):\n",
      "File \u001b[1;32m~\\.virtualenvs\\datascience_practice_python-XzMsjZK6\\Lib\\site-packages\\pyspark\\errors\\exceptions\\captured.py:185\u001b[0m, in \u001b[0;36mcapture_sql_exception.<locals>.deco\u001b[1;34m(*a, **kw)\u001b[0m\n\u001b[0;32m    181\u001b[0m converted \u001b[38;5;241m=\u001b[39m convert_exception(e\u001b[38;5;241m.\u001b[39mjava_exception)\n\u001b[0;32m    182\u001b[0m \u001b[38;5;28;01mif\u001b[39;00m \u001b[38;5;129;01mnot\u001b[39;00m \u001b[38;5;28misinstance\u001b[39m(converted, UnknownException):\n\u001b[0;32m    183\u001b[0m     \u001b[38;5;66;03m# Hide where the exception came from that shows a non-Pythonic\u001b[39;00m\n\u001b[0;32m    184\u001b[0m     \u001b[38;5;66;03m# JVM exception message.\u001b[39;00m\n\u001b[1;32m--> 185\u001b[0m     \u001b[38;5;28;01mraise\u001b[39;00m converted \u001b[38;5;28;01mfrom\u001b[39;00m \u001b[38;5;28;01mNone\u001b[39;00m\n\u001b[0;32m    186\u001b[0m \u001b[38;5;28;01melse\u001b[39;00m:\n\u001b[0;32m    187\u001b[0m     \u001b[38;5;28;01mraise\u001b[39;00m\n",
      "\u001b[1;31mIllegalArgumentException\u001b[0m: requirement failed: Column First Name must be of type numeric but was actually of type string."
     ]
    }
   ],
   "source": [
    "## Add imputations\n",
    "imputer.fit(null_df).transform(null_df).show()\n"
   ]
  },
  {
   "cell_type": "code",
   "execution_count": null,
   "id": "a0b616ff-9d58-4dfb-9b1d-b5f90b12ceaa",
   "metadata": {},
   "outputs": [],
   "source": []
  }
 ],
 "metadata": {
  "kernelspec": {
   "display_name": "Python 3 (ipykernel)",
   "language": "python",
   "name": "python3"
  },
  "language_info": {
   "codemirror_mode": {
    "name": "ipython",
    "version": 3
   },
   "file_extension": ".py",
   "mimetype": "text/x-python",
   "name": "python",
   "nbconvert_exporter": "python",
   "pygments_lexer": "ipython3",
   "version": "3.11.6"
  }
 },
 "nbformat": 4,
 "nbformat_minor": 5
}
